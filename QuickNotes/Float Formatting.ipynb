{
 "cells": [
  {
   "cell_type": "markdown",
   "id": "37bcc268",
   "metadata": {},
   "source": [
    "Syntax : \"{value:width.precision f}\""
   ]
  },
  {
   "cell_type": "code",
   "execution_count": 1,
   "id": "320922a7",
   "metadata": {},
   "outputs": [],
   "source": [
    "result = 100/777"
   ]
  },
  {
   "cell_type": "code",
   "execution_count": 2,
   "id": "72e6e202",
   "metadata": {},
   "outputs": [
    {
     "data": {
      "text/plain": [
       "0.1287001287001287"
      ]
     },
     "execution_count": 2,
     "metadata": {},
     "output_type": "execute_result"
    }
   ],
   "source": [
    "result"
   ]
  },
  {
   "cell_type": "code",
   "execution_count": 4,
   "id": "894e9248",
   "metadata": {},
   "outputs": [
    {
     "name": "stdout",
     "output_type": "stream",
     "text": [
      "The result was 0.1287001287001287\n"
     ]
    }
   ],
   "source": [
    "print('The result was {r}'.format(r=result))"
   ]
  },
  {
   "cell_type": "markdown",
   "id": "797ba332",
   "metadata": {},
   "source": [
    "We can precise the decimals we desire to be represented, in this case just 3 after the , :"
   ]
  },
  {
   "cell_type": "code",
   "execution_count": 8,
   "id": "792347d5",
   "metadata": {},
   "outputs": [
    {
     "name": "stdout",
     "output_type": "stream",
     "text": [
      "The result was 0.129\n"
     ]
    }
   ],
   "source": [
    "print('The result was {r:1.3f}'.format(r=result))"
   ]
  },
  {
   "cell_type": "markdown",
   "id": "0fec98d7",
   "metadata": {},
   "source": [
    "We can add the width parameter, to set how long we want the str to be (recommended to set as 1): "
   ]
  },
  {
   "cell_type": "code",
   "execution_count": 6,
   "id": "c3666a7a",
   "metadata": {},
   "outputs": [
    {
     "name": "stdout",
     "output_type": "stream",
     "text": [
      "The result was      0.129\n"
     ]
    }
   ],
   "source": [
    "print('The result was {r:10.3f}'.format(r=result))"
   ]
  },
  {
   "cell_type": "markdown",
   "id": "f91fb8c0",
   "metadata": {},
   "source": [
    " \n",
    "  \n",
    "   \n",
    "    "
   ]
  },
  {
   "cell_type": "markdown",
   "id": "3a898699",
   "metadata": {},
   "source": [
    "We can use another sintax, where the .format is replaced at the beggining by just an 'f' before the string:"
   ]
  },
  {
   "cell_type": "code",
   "execution_count": 9,
   "id": "f36e0743",
   "metadata": {},
   "outputs": [
    {
     "name": "stdout",
     "output_type": "stream",
     "text": [
      "The result was 0.1287001287001287\n"
     ]
    }
   ],
   "source": [
    "print(f'The result was {result}')"
   ]
  }
 ],
 "metadata": {
  "kernelspec": {
   "display_name": "Python 3 (ipykernel)",
   "language": "python",
   "name": "python3"
  },
  "language_info": {
   "codemirror_mode": {
    "name": "ipython",
    "version": 3
   },
   "file_extension": ".py",
   "mimetype": "text/x-python",
   "name": "python",
   "nbconvert_exporter": "python",
   "pygments_lexer": "ipython3",
   "version": "3.9.13"
  }
 },
 "nbformat": 4,
 "nbformat_minor": 5
}
