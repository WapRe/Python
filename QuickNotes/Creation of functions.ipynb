{
 "cells": [
  {
   "cell_type": "markdown",
   "id": "33433cbe",
   "metadata": {},
   "source": [
    "def name_of_function(): def simply tells python this is a function and then all functions are writted in Snake casing (lower case and _ between words). Then we normally write like a comment with ''' COMMENT ''' defining what this block will do.Finnaly we write the code we want to be runned."
   ]
  },
  {
   "cell_type": "code",
   "execution_count": 1,
   "id": "9cb74e30",
   "metadata": {},
   "outputs": [],
   "source": [
    "def say_hello():\n",
    "    print('Hello')"
   ]
  },
  {
   "cell_type": "code",
   "execution_count": 2,
   "id": "2b8b4bd6",
   "metadata": {},
   "outputs": [
    {
     "name": "stdout",
     "output_type": "stream",
     "text": [
      "Hello\n"
     ]
    }
   ],
   "source": [
    "say_hello()"
   ]
  },
  {
   "cell_type": "markdown",
   "id": "8f0570a0",
   "metadata": {},
   "source": [
    "We created a function that when called, executes the code inside. Se we don't have to write the code over and over during the script."
   ]
  },
  {
   "cell_type": "code",
   "execution_count": 4,
   "id": "8b1f141d",
   "metadata": {},
   "outputs": [],
   "source": [
    "def say_hello(name):\n",
    "    print(f'Hello {name}')"
   ]
  },
  {
   "cell_type": "code",
   "execution_count": 5,
   "id": "a9f43a5e",
   "metadata": {},
   "outputs": [
    {
     "name": "stdout",
     "output_type": "stream",
     "text": [
      "Hello Adry\n"
     ]
    }
   ],
   "source": [
    "say_hello('Adry')"
   ]
  },
  {
   "cell_type": "code",
   "execution_count": 6,
   "id": "a79bbc23",
   "metadata": {},
   "outputs": [
    {
     "ename": "TypeError",
     "evalue": "say_hello() missing 1 required positional argument: 'name'",
     "output_type": "error",
     "traceback": [
      "\u001b[0;31m---------------------------------------------------------------------------\u001b[0m",
      "\u001b[0;31mTypeError\u001b[0m                                 Traceback (most recent call last)",
      "\u001b[0;32m/tmp/ipykernel_13378/2814888808.py\u001b[0m in \u001b[0;36m<module>\u001b[0;34m\u001b[0m\n\u001b[0;32m----> 1\u001b[0;31m \u001b[0msay_hello\u001b[0m\u001b[0;34m(\u001b[0m\u001b[0;34m)\u001b[0m\u001b[0;34m\u001b[0m\u001b[0;34m\u001b[0m\u001b[0m\n\u001b[0m",
      "\u001b[0;31mTypeError\u001b[0m: say_hello() missing 1 required positional argument: 'name'"
     ]
    }
   ],
   "source": [
    "say_hello()"
   ]
  },
  {
   "cell_type": "markdown",
   "id": "85379853",
   "metadata": {},
   "source": [
    "If we don't pass an argument to the function, the code inside can't be executed. We can fix that by providing, in this cas, a name, or by writting a 'Default' value in order to avoid this error:"
   ]
  },
  {
   "cell_type": "code",
   "execution_count": 7,
   "id": "1ca0c40e",
   "metadata": {},
   "outputs": [],
   "source": [
    "def say_hello(name='Default'):\n",
    "    '''Here if name is not provided, it will assign default to it'''\n",
    "    print(f'Hello {name}')"
   ]
  },
  {
   "cell_type": "code",
   "execution_count": 8,
   "id": "94cf94df",
   "metadata": {},
   "outputs": [
    {
     "name": "stdout",
     "output_type": "stream",
     "text": [
      "Hello Default\n"
     ]
    }
   ],
   "source": [
    "say_hello()"
   ]
  },
  {
   "cell_type": "code",
   "execution_count": 9,
   "id": "834c067a",
   "metadata": {},
   "outputs": [
    {
     "name": "stdout",
     "output_type": "stream",
     "text": [
      "Hello Adry\n"
     ]
    }
   ],
   "source": [
    "say_hello('Adry')"
   ]
  },
  {
   "cell_type": "markdown",
   "id": "4e1dfbe4",
   "metadata": {},
   "source": [
    "In functions, we prefer to use the 'return' keyword and not the print function. The difference is that return allows to save the output in a variable:"
   ]
  },
  {
   "cell_type": "code",
   "execution_count": 12,
   "id": "3eb5b401",
   "metadata": {},
   "outputs": [],
   "source": [
    "def add_num(num1,num2):\n",
    "    return num1 + num2"
   ]
  },
  {
   "cell_type": "code",
   "execution_count": 13,
   "id": "4301bf01",
   "metadata": {},
   "outputs": [
    {
     "data": {
      "text/plain": [
       "30"
      ]
     },
     "execution_count": 13,
     "metadata": {},
     "output_type": "execute_result"
    }
   ],
   "source": [
    "add_num(10,20)"
   ]
  },
  {
   "cell_type": "code",
   "execution_count": 14,
   "id": "49f5da53",
   "metadata": {},
   "outputs": [],
   "source": [
    "result = add_num(10,20)"
   ]
  },
  {
   "cell_type": "code",
   "execution_count": 15,
   "id": "cf7ee329",
   "metadata": {},
   "outputs": [
    {
     "data": {
      "text/plain": [
       "30"
      ]
     },
     "execution_count": 15,
     "metadata": {},
     "output_type": "execute_result"
    }
   ],
   "source": [
    "result"
   ]
  },
  {
   "cell_type": "markdown",
   "id": "307b51c1",
   "metadata": {},
   "source": [
    "Testing:"
   ]
  },
  {
   "cell_type": "code",
   "execution_count": 16,
   "id": "5b649a24",
   "metadata": {},
   "outputs": [],
   "source": [
    "def testfun(name, age):\n",
    "    name = input('What is your name? ')\n",
    "    age = int(input('What is your age? '))\n",
    "    print(f'Hello {name}, your age is: {age}')"
   ]
  },
  {
   "cell_type": "code",
   "execution_count": 17,
   "id": "1ff55bdc",
   "metadata": {},
   "outputs": [
    {
     "ename": "TypeError",
     "evalue": "testfun() missing 2 required positional arguments: 'name' and 'age'",
     "output_type": "error",
     "traceback": [
      "\u001b[0;31m---------------------------------------------------------------------------\u001b[0m",
      "\u001b[0;31mTypeError\u001b[0m                                 Traceback (most recent call last)",
      "\u001b[0;32m/tmp/ipykernel_13378/819770288.py\u001b[0m in \u001b[0;36m<module>\u001b[0;34m\u001b[0m\n\u001b[0;32m----> 1\u001b[0;31m \u001b[0mtestfun\u001b[0m\u001b[0;34m(\u001b[0m\u001b[0;34m)\u001b[0m\u001b[0;34m\u001b[0m\u001b[0;34m\u001b[0m\u001b[0m\n\u001b[0m",
      "\u001b[0;31mTypeError\u001b[0m: testfun() missing 2 required positional arguments: 'name' and 'age'"
     ]
    }
   ],
   "source": [
    "testfun()"
   ]
  },
  {
   "cell_type": "code",
   "execution_count": 19,
   "id": "fed3d93b",
   "metadata": {},
   "outputs": [
    {
     "name": "stdout",
     "output_type": "stream",
     "text": [
      "What is your name? Adry\n",
      "What is your age? 28\n",
      "Hello Adry, your age is: 28\n"
     ]
    }
   ],
   "source": [
    "testfun('Adry',28)"
   ]
  },
  {
   "cell_type": "code",
   "execution_count": 20,
   "id": "408fea93",
   "metadata": {},
   "outputs": [],
   "source": [
    "def testfun(name='a', age=0):\n",
    "    name = input('What is your name? ')\n",
    "    age = int(input('What is your age? '))\n",
    "    print(f'Hello {name}, your age is: {age}')"
   ]
  },
  {
   "cell_type": "code",
   "execution_count": 21,
   "id": "518ffcb1",
   "metadata": {},
   "outputs": [
    {
     "name": "stdout",
     "output_type": "stream",
     "text": [
      "What is your name? Adry\n",
      "What is your age? 28\n",
      "Hello Adry, your age is: 28\n"
     ]
    }
   ],
   "source": [
    "testfun()"
   ]
  },
  {
   "cell_type": "markdown",
   "id": "d96e74be",
   "metadata": {},
   "source": [
    "It is usefull to set some 'default' variables in the def function in order to run it directly and then ask for inputs"
   ]
  },
  {
   "cell_type": "code",
   "execution_count": null,
   "id": "61571faf",
   "metadata": {},
   "outputs": [],
   "source": []
  }
 ],
 "metadata": {
  "kernelspec": {
   "display_name": "Python 3 (ipykernel)",
   "language": "python",
   "name": "python3"
  },
  "language_info": {
   "codemirror_mode": {
    "name": "ipython",
    "version": 3
   },
   "file_extension": ".py",
   "mimetype": "text/x-python",
   "name": "python",
   "nbconvert_exporter": "python",
   "pygments_lexer": "ipython3",
   "version": "3.9.13"
  }
 },
 "nbformat": 4,
 "nbformat_minor": 5
}
