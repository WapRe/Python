{
 "cells": [
  {
   "cell_type": "code",
   "execution_count": 1,
   "id": "3dfbab70",
   "metadata": {},
   "outputs": [],
   "source": [
    "mylist=[1,2,3]"
   ]
  },
  {
   "cell_type": "code",
   "execution_count": 2,
   "id": "f5c266b5",
   "metadata": {},
   "outputs": [
    {
     "name": "stdout",
     "output_type": "stream",
     "text": [
      "0\n",
      "1\n",
      "2\n",
      "3\n",
      "4\n",
      "5\n",
      "6\n",
      "7\n",
      "8\n",
      "9\n"
     ]
    }
   ],
   "source": [
    "for num in range(10):\n",
    "    print(num)"
   ]
  },
  {
   "cell_type": "code",
   "execution_count": 4,
   "id": "c2938368",
   "metadata": {},
   "outputs": [
    {
     "name": "stdout",
     "output_type": "stream",
     "text": [
      "3\n",
      "5\n",
      "7\n",
      "9\n"
     ]
    }
   ],
   "source": [
    "for num in range(3,10,2):\n",
    "    print(num)"
   ]
  },
  {
   "cell_type": "markdown",
   "id": "a1a8a68e",
   "metadata": {},
   "source": [
    "range() function for iteration takes positions, it is a generator."
   ]
  },
  {
   "cell_type": "code",
   "execution_count": 6,
   "id": "b82d10eb",
   "metadata": {},
   "outputs": [
    {
     "name": "stdout",
     "output_type": "stream",
     "text": [
      "At index 0 the letter is a\n",
      "At index 1 the letter is b\n",
      "At index 2 the letter is c\n",
      "At index 3 the letter is d\n",
      "At index 4 the letter is e\n"
     ]
    }
   ],
   "source": [
    "tally = 0\n",
    "\n",
    "for letter in 'abcde':\n",
    "    print(f'At index {tally} the letter is {letter}')\n",
    "    tally = tally + 1"
   ]
  },
  {
   "cell_type": "markdown",
   "id": "73a1416e",
   "metadata": {},
   "source": [
    "Having a counter can really help in a string to know where we are, we can use the enumerate() function:"
   ]
  },
  {
   "cell_type": "code",
   "execution_count": 7,
   "id": "5eb001db",
   "metadata": {},
   "outputs": [
    {
     "name": "stdout",
     "output_type": "stream",
     "text": [
      "(0, 'a')\n",
      "(1, 'b')\n",
      "(2, 'c')\n",
      "(3, 'd')\n",
      "(4, 'e')\n"
     ]
    }
   ],
   "source": [
    "word = 'abcde'\n",
    "\n",
    "for item in enumerate(word):\n",
    "    print(item)"
   ]
  },
  {
   "cell_type": "markdown",
   "id": "72c5ebe9",
   "metadata": {},
   "source": [
    "we can pair lists in tupples with the zip() function, always if the nº of elements is the same, if not, it will stop at the last pair:"
   ]
  },
  {
   "cell_type": "code",
   "execution_count": 10,
   "id": "8c84eb71",
   "metadata": {},
   "outputs": [
    {
     "name": "stdout",
     "output_type": "stream",
     "text": [
      "(1, 'a') is the new tupple pair.\n",
      "(2, 'b') is the new tupple pair.\n",
      "(3, 'c') is the new tupple pair.\n"
     ]
    }
   ],
   "source": [
    "list1 = [1,2,3,4,5]\n",
    "list2 = ['a','b','c']\n",
    "\n",
    "for item in zip(list1,list2):\n",
    "    print(f'{item} is the new tupple pair.')"
   ]
  },
  {
   "cell_type": "markdown",
   "id": "1cf9c381",
   "metadata": {},
   "source": [
    "we can also check with 'in' if the element is in the list or in the dictionary too:"
   ]
  },
  {
   "cell_type": "code",
   "execution_count": 11,
   "id": "038653bf",
   "metadata": {},
   "outputs": [
    {
     "data": {
      "text/plain": [
       "False"
      ]
     },
     "execution_count": 11,
     "metadata": {},
     "output_type": "execute_result"
    }
   ],
   "source": [
    "'x' in [1,2,3]"
   ]
  },
  {
   "cell_type": "code",
   "execution_count": 12,
   "id": "38e35bcf",
   "metadata": {},
   "outputs": [
    {
     "data": {
      "text/plain": [
       "True"
      ]
     },
     "execution_count": 12,
     "metadata": {},
     "output_type": "execute_result"
    }
   ],
   "source": [
    "'x' in ['x','y','x']"
   ]
  },
  {
   "cell_type": "markdown",
   "id": "906ec370",
   "metadata": {},
   "source": [
    "We can also check which is the max or min from the list with min() or max()"
   ]
  },
  {
   "cell_type": "code",
   "execution_count": 14,
   "id": "a246b676",
   "metadata": {},
   "outputs": [
    {
     "data": {
      "text/plain": [
       "12"
      ]
     },
     "execution_count": 14,
     "metadata": {},
     "output_type": "execute_result"
    }
   ],
   "source": [
    "numlist = [127,123,412312,12,53,456]\n",
    "\n",
    "min(numlist)"
   ]
  },
  {
   "cell_type": "code",
   "execution_count": 15,
   "id": "f0e1bd7a",
   "metadata": {},
   "outputs": [
    {
     "data": {
      "text/plain": [
       "412312"
      ]
     },
     "execution_count": 15,
     "metadata": {},
     "output_type": "execute_result"
    }
   ],
   "source": [
    "max(numlist)"
   ]
  },
  {
   "cell_type": "markdown",
   "id": "862db56c",
   "metadata": {},
   "source": [
    "we can shuffle the list if we first import the lib at the beggining:"
   ]
  },
  {
   "cell_type": "code",
   "execution_count": 16,
   "id": "f18ad7e3",
   "metadata": {},
   "outputs": [],
   "source": [
    "from random import shuffle"
   ]
  },
  {
   "cell_type": "code",
   "execution_count": 17,
   "id": "a8c43264",
   "metadata": {},
   "outputs": [
    {
     "name": "stdout",
     "output_type": "stream",
     "text": [
      "[123, 456, 127, 12, 53, 412312]\n"
     ]
    }
   ],
   "source": [
    "shuffle(numlist)\n",
    "print(numlist)"
   ]
  },
  {
   "cell_type": "markdown",
   "id": "f3ace4f7",
   "metadata": {},
   "source": [
    "randint lib allows to grab a random integer, everytime we run this cell it will change:"
   ]
  },
  {
   "cell_type": "code",
   "execution_count": 22,
   "id": "2e5e70a2",
   "metadata": {},
   "outputs": [
    {
     "data": {
      "text/plain": [
       "60"
      ]
     },
     "execution_count": 22,
     "metadata": {},
     "output_type": "execute_result"
    }
   ],
   "source": [
    "from random import randint\n",
    "randint(0,100)"
   ]
  },
  {
   "cell_type": "markdown",
   "id": "87deb7f8",
   "metadata": {},
   "source": [
    "Accept user input function:"
   ]
  },
  {
   "cell_type": "code",
   "execution_count": 23,
   "id": "191ee327",
   "metadata": {},
   "outputs": [
    {
     "name": "stdout",
     "output_type": "stream",
     "text": [
      "Enter a number here: 50\n"
     ]
    },
    {
     "data": {
      "text/plain": [
       "'50'"
      ]
     },
     "execution_count": 23,
     "metadata": {},
     "output_type": "execute_result"
    }
   ],
   "source": [
    "input('Enter a number here: ')"
   ]
  },
  {
   "cell_type": "markdown",
   "id": "e1d1234a",
   "metadata": {},
   "source": [
    "Normally we want to save the data in a variable:"
   ]
  },
  {
   "cell_type": "code",
   "execution_count": 24,
   "id": "efeb6d0c",
   "metadata": {},
   "outputs": [
    {
     "name": "stdout",
     "output_type": "stream",
     "text": [
      "What is your age?60\n"
     ]
    }
   ],
   "source": [
    "age = input('What is your age?')"
   ]
  },
  {
   "cell_type": "code",
   "execution_count": 25,
   "id": "f1ab62d0",
   "metadata": {},
   "outputs": [
    {
     "data": {
      "text/plain": [
       "'60'"
      ]
     },
     "execution_count": 25,
     "metadata": {},
     "output_type": "execute_result"
    }
   ],
   "source": [
    "age"
   ]
  },
  {
   "cell_type": "markdown",
   "id": "0d4ba3b1",
   "metadata": {},
   "source": [
    "With input anything that is pass to it is always considered as a string!!!. If we want an integer we will need to change the type:"
   ]
  },
  {
   "cell_type": "code",
   "execution_count": 26,
   "id": "8567b23d",
   "metadata": {},
   "outputs": [
    {
     "data": {
      "text/plain": [
       "60"
      ]
     },
     "execution_count": 26,
     "metadata": {},
     "output_type": "execute_result"
    }
   ],
   "source": [
    "int(age)"
   ]
  },
  {
   "cell_type": "markdown",
   "id": "7b84151e",
   "metadata": {},
   "source": [
    "or: "
   ]
  },
  {
   "cell_type": "code",
   "execution_count": 27,
   "id": "481e3f75",
   "metadata": {},
   "outputs": [
    {
     "name": "stdout",
     "output_type": "stream",
     "text": [
      "What is your age?60\n"
     ]
    }
   ],
   "source": [
    "age = int(input('What is your age?'))"
   ]
  },
  {
   "cell_type": "code",
   "execution_count": 28,
   "id": "9d5dda60",
   "metadata": {},
   "outputs": [
    {
     "data": {
      "text/plain": [
       "60"
      ]
     },
     "execution_count": 28,
     "metadata": {},
     "output_type": "execute_result"
    }
   ],
   "source": [
    "age"
   ]
  },
  {
   "cell_type": "code",
   "execution_count": null,
   "id": "32b0d275",
   "metadata": {},
   "outputs": [],
   "source": []
  }
 ],
 "metadata": {
  "kernelspec": {
   "display_name": "Python 3 (ipykernel)",
   "language": "python",
   "name": "python3"
  },
  "language_info": {
   "codemirror_mode": {
    "name": "ipython",
    "version": 3
   },
   "file_extension": ".py",
   "mimetype": "text/x-python",
   "name": "python",
   "nbconvert_exporter": "python",
   "pygments_lexer": "ipython3",
   "version": "3.9.13"
  }
 },
 "nbformat": 4,
 "nbformat_minor": 5
}
