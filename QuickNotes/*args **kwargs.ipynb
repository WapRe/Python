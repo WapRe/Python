{
 "cells": [
  {
   "cell_type": "markdown",
   "id": "cd24d5a5",
   "metadata": {},
   "source": [
    "Lets say that we have a function with 2 arguments, that summ them and pass de 5%:"
   ]
  },
  {
   "cell_type": "code",
   "execution_count": 1,
   "id": "8193bbed",
   "metadata": {},
   "outputs": [],
   "source": [
    "def summa(a,b):\n",
    "    #return a+b and 5% them\n",
    "    return sum((a,b)) * 0.05"
   ]
  },
  {
   "cell_type": "code",
   "execution_count": 3,
   "id": "c12707e5",
   "metadata": {},
   "outputs": [
    {
     "data": {
      "text/plain": [
       "5.0"
      ]
     },
     "execution_count": 3,
     "metadata": {},
     "output_type": "execute_result"
    }
   ],
   "source": [
    "summa(40,60)"
   ]
  },
  {
   "cell_type": "markdown",
   "id": "76228d4c",
   "metadata": {},
   "source": [
    "We only can pass 2 arguments, we are restriccted to 2 positional arguments. "
   ]
  },
  {
   "cell_type": "markdown",
   "id": "5e793735",
   "metadata": {},
   "source": [
    "*args allows to set more positional numbers"
   ]
  },
  {
   "cell_type": "code",
   "execution_count": 4,
   "id": "5d323981",
   "metadata": {},
   "outputs": [],
   "source": [
    "def summa(*args):\n",
    "    #return summatory of all, and 0,05%\n",
    "    return sum(args) * 0.05"
   ]
  },
  {
   "cell_type": "code",
   "execution_count": 7,
   "id": "7c4fcc3b",
   "metadata": {},
   "outputs": [
    {
     "data": {
      "text/plain": [
       "1.8177"
      ]
     },
     "execution_count": 7,
     "metadata": {},
     "output_type": "execute_result"
    }
   ],
   "source": [
    "summa(3,4,5,6,7.7,3,7.654)"
   ]
  },
  {
   "cell_type": "markdown",
   "id": "8730afef",
   "metadata": {},
   "source": [
    "We can now keep adding numbers and there is no limit. It treats all arguments as Tupples."
   ]
  },
  {
   "cell_type": "markdown",
   "id": "7f532401",
   "metadata": {},
   "source": [
    "We can pass something to be treated as a dictionary, with **kwargs, there is an example:"
   ]
  },
  {
   "cell_type": "code",
   "execution_count": 9,
   "id": "3df17679",
   "metadata": {},
   "outputs": [],
   "source": [
    "def fruit(**kwargs):\n",
    "    if 'fruit' in kwargs:\n",
    "        print('My fruit of choice is {}'.format(kwargs['fruit']))\n",
    "    else:\n",
    "        print('I did not fint it')"
   ]
  },
  {
   "cell_type": "markdown",
   "id": "57f1c988",
   "metadata": {},
   "source": [
    "with kwargs, key-word argument, the argument is treated as a dictionary, so we can pass keys with no limit:"
   ]
  },
  {
   "cell_type": "code",
   "execution_count": 10,
   "id": "6f0d29d6",
   "metadata": {},
   "outputs": [
    {
     "name": "stdout",
     "output_type": "stream",
     "text": [
      "My fruit of choice is apple\n"
     ]
    }
   ],
   "source": [
    "fruit(fruit='apple', veggie='lettuce', other='something')"
   ]
  },
  {
   "cell_type": "markdown",
   "id": "d7203b62",
   "metadata": {},
   "source": [
    "python no longer complains about arguments. "
   ]
  },
  {
   "cell_type": "code",
   "execution_count": null,
   "id": "842e152d",
   "metadata": {},
   "outputs": [],
   "source": []
  }
 ],
 "metadata": {
  "kernelspec": {
   "display_name": "Python 3 (ipykernel)",
   "language": "python",
   "name": "python3"
  },
  "language_info": {
   "codemirror_mode": {
    "name": "ipython",
    "version": 3
   },
   "file_extension": ".py",
   "mimetype": "text/x-python",
   "name": "python",
   "nbconvert_exporter": "python",
   "pygments_lexer": "ipython3",
   "version": "3.9.13"
  }
 },
 "nbformat": 4,
 "nbformat_minor": 5
}
