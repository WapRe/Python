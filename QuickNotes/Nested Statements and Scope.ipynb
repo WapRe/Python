{
 "cells": [
  {
   "cell_type": "code",
   "execution_count": 1,
   "id": "033ca0a2",
   "metadata": {},
   "outputs": [],
   "source": [
    "x = 25\n",
    "\n",
    "def printer():\n",
    "    x = 50\n",
    "    return x"
   ]
  },
  {
   "cell_type": "code",
   "execution_count": 2,
   "id": "3a654af1",
   "metadata": {},
   "outputs": [
    {
     "name": "stdout",
     "output_type": "stream",
     "text": [
      "25\n"
     ]
    }
   ],
   "source": [
    "print(x)"
   ]
  },
  {
   "cell_type": "code",
   "execution_count": 3,
   "id": "9e11c9fa",
   "metadata": {},
   "outputs": [
    {
     "name": "stdout",
     "output_type": "stream",
     "text": [
      "50\n"
     ]
    }
   ],
   "source": [
    "print(printer())"
   ]
  },
  {
   "cell_type": "code",
   "execution_count": 4,
   "id": "39e13c4f",
   "metadata": {},
   "outputs": [
    {
     "name": "stdout",
     "output_type": "stream",
     "text": [
      "25\n"
     ]
    }
   ],
   "source": [
    "print(x)"
   ]
  },
  {
   "cell_type": "markdown",
   "id": "f96667a3",
   "metadata": {},
   "source": [
    "LEGB Rule: "
   ]
  },
  {
   "cell_type": "code",
   "execution_count": 6,
   "id": "d9f5057d",
   "metadata": {},
   "outputs": [],
   "source": [
    "#lambda num:num**2 #this in an exemple of local expression, so num is local to lambda"
   ]
  },
  {
   "cell_type": "code",
   "execution_count": 7,
   "id": "0781f060",
   "metadata": {},
   "outputs": [
    {
     "name": "stdout",
     "output_type": "stream",
     "text": [
      "HelloSammy\n"
     ]
    }
   ],
   "source": [
    "name = 'This is a global string'\n",
    "def greet():\n",
    "    name = 'Sammy'\n",
    "    def hello():\n",
    "        print('Hello' + name)\n",
    "    hello()\n",
    "greet()"
   ]
  },
  {
   "cell_type": "markdown",
   "id": "fee4197a",
   "metadata": {},
   "source": [
    "LEGB rule just explains that python looks for variables step by step, it depends at which level it is calling the variable. The stairs can be represented by 'Tabs', thats why it is important to have everything at the same level of Tab."
   ]
  },
  {
   "cell_type": "markdown",
   "id": "db7119b5",
   "metadata": {},
   "source": [
    "we can call by global the variable that was assigned at the first level:"
   ]
  },
  {
   "cell_type": "code",
   "execution_count": 10,
   "id": "ad7a0b32",
   "metadata": {},
   "outputs": [
    {
     "name": "stdout",
     "output_type": "stream",
     "text": [
      "HelloThis is a global string\n"
     ]
    }
   ],
   "source": [
    "name = 'This is a global string'\n",
    "def greet():\n",
    "    name = 'Sammy'\n",
    "    def hello():\n",
    "        global name\n",
    "        print('Hello' + name)\n",
    "    hello()\n",
    "greet()"
   ]
  },
  {
   "cell_type": "code",
   "execution_count": null,
   "id": "9d6e734f",
   "metadata": {},
   "outputs": [],
   "source": []
  }
 ],
 "metadata": {
  "kernelspec": {
   "display_name": "Python 3 (ipykernel)",
   "language": "python",
   "name": "python3"
  },
  "language_info": {
   "codemirror_mode": {
    "name": "ipython",
    "version": 3
   },
   "file_extension": ".py",
   "mimetype": "text/x-python",
   "name": "python",
   "nbconvert_exporter": "python",
   "pygments_lexer": "ipython3",
   "version": "3.9.13"
  }
 },
 "nbformat": 4,
 "nbformat_minor": 5
}
