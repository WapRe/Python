{
 "cells": [
  {
   "cell_type": "code",
   "execution_count": 1,
   "id": "41127c15",
   "metadata": {},
   "outputs": [],
   "source": [
    "lista = ['one', 'two', 'three']"
   ]
  },
  {
   "cell_type": "code",
   "execution_count": 3,
   "id": "8af193e0",
   "metadata": {},
   "outputs": [
    {
     "data": {
      "text/plain": [
       "['one', 'two', 'three']"
      ]
     },
     "execution_count": 3,
     "metadata": {},
     "output_type": "execute_result"
    }
   ],
   "source": [
    "lista"
   ]
  },
  {
   "cell_type": "code",
   "execution_count": 4,
   "id": "f248a52b",
   "metadata": {},
   "outputs": [],
   "source": [
    "lista.append('FOUR')"
   ]
  },
  {
   "cell_type": "code",
   "execution_count": 5,
   "id": "90aa2ab3",
   "metadata": {},
   "outputs": [
    {
     "data": {
      "text/plain": [
       "['one', 'two', 'three', 'FOUR']"
      ]
     },
     "execution_count": 5,
     "metadata": {},
     "output_type": "execute_result"
    }
   ],
   "source": [
    "lista"
   ]
  },
  {
   "cell_type": "markdown",
   "id": "db3f109f",
   "metadata": {},
   "source": [
    "append is a function that allows you to insert another item at the end of the list"
   ]
  },
  {
   "cell_type": "code",
   "execution_count": 6,
   "id": "9976d295",
   "metadata": {},
   "outputs": [
    {
     "data": {
      "text/plain": [
       "'FOUR'"
      ]
     },
     "execution_count": 6,
     "metadata": {},
     "output_type": "execute_result"
    }
   ],
   "source": [
    "lista.pop()"
   ]
  },
  {
   "cell_type": "code",
   "execution_count": 7,
   "id": "18f3709c",
   "metadata": {},
   "outputs": [
    {
     "data": {
      "text/plain": [
       "['one', 'two', 'three']"
      ]
     },
     "execution_count": 7,
     "metadata": {},
     "output_type": "execute_result"
    }
   ],
   "source": [
    "lista"
   ]
  },
  {
   "cell_type": "markdown",
   "id": "1a8f06b7",
   "metadata": {},
   "source": [
    "pop function allows to remove the last item of the list (if we don't specify an idex), it also gave the result of it. It could be interessting to save the item erased in another variable."
   ]
  },
  {
   "cell_type": "code",
   "execution_count": 8,
   "id": "c53e2eb3",
   "metadata": {},
   "outputs": [],
   "source": [
    "pop_item = lista.pop()"
   ]
  },
  {
   "cell_type": "code",
   "execution_count": 9,
   "id": "5123d4a4",
   "metadata": {},
   "outputs": [
    {
     "data": {
      "text/plain": [
       "'three'"
      ]
     },
     "execution_count": 9,
     "metadata": {},
     "output_type": "execute_result"
    }
   ],
   "source": [
    "pop_item"
   ]
  },
  {
   "cell_type": "code",
   "execution_count": 10,
   "id": "60181cfc",
   "metadata": {},
   "outputs": [
    {
     "data": {
      "text/plain": [
       "['one', 'two']"
      ]
     },
     "execution_count": 10,
     "metadata": {},
     "output_type": "execute_result"
    }
   ],
   "source": [
    "lista"
   ]
  },
  {
   "cell_type": "code",
   "execution_count": 11,
   "id": "27a1734c",
   "metadata": {},
   "outputs": [],
   "source": [
    "newlist = ['a', 'e', 'x', 'b', 'c']\n",
    "numlist = [4, 1, 8, 3]"
   ]
  },
  {
   "cell_type": "code",
   "execution_count": 12,
   "id": "3a620122",
   "metadata": {},
   "outputs": [],
   "source": [
    "newlist.sort()"
   ]
  },
  {
   "cell_type": "code",
   "execution_count": 13,
   "id": "419096b7",
   "metadata": {},
   "outputs": [
    {
     "data": {
      "text/plain": [
       "['a', 'b', 'c', 'e', 'x']"
      ]
     },
     "execution_count": 13,
     "metadata": {},
     "output_type": "execute_result"
    }
   ],
   "source": [
    "newlist"
   ]
  },
  {
   "cell_type": "markdown",
   "id": "02b85a8b",
   "metadata": {},
   "source": [
    "the sort function allows so sort in alphabetical order or numerical order. \n",
    "NOTE: we can't assign the result in a variable since it doesn't return anything when runned."
   ]
  },
  {
   "cell_type": "code",
   "execution_count": 14,
   "id": "03b2af47",
   "metadata": {},
   "outputs": [],
   "source": [
    "numlist.reverse()"
   ]
  },
  {
   "cell_type": "code",
   "execution_count": 15,
   "id": "050f266d",
   "metadata": {},
   "outputs": [
    {
     "data": {
      "text/plain": [
       "[3, 8, 1, 4]"
      ]
     },
     "execution_count": 15,
     "metadata": {},
     "output_type": "execute_result"
    }
   ],
   "source": [
    "numlist"
   ]
  },
  {
   "cell_type": "markdown",
   "id": "bfc05c48",
   "metadata": {},
   "source": [
    "reverse function allows, as named, to reverse the list. It doesn't give results as well."
   ]
  }
 ],
 "metadata": {
  "kernelspec": {
   "display_name": "Python 3 (ipykernel)",
   "language": "python",
   "name": "python3"
  },
  "language_info": {
   "codemirror_mode": {
    "name": "ipython",
    "version": 3
   },
   "file_extension": ".py",
   "mimetype": "text/x-python",
   "name": "python",
   "nbconvert_exporter": "python",
   "pygments_lexer": "ipython3",
   "version": "3.9.13"
  }
 },
 "nbformat": 4,
 "nbformat_minor": 5
}
