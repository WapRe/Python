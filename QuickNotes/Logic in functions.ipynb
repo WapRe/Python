{
 "cells": [
  {
   "cell_type": "code",
   "execution_count": 4,
   "id": "216a6668",
   "metadata": {},
   "outputs": [],
   "source": [
    "def even_check(num):\n",
    "    return num % 2 == 0"
   ]
  },
  {
   "cell_type": "code",
   "execution_count": 5,
   "id": "70e775ab",
   "metadata": {},
   "outputs": [
    {
     "data": {
      "text/plain": [
       "True"
      ]
     },
     "execution_count": 5,
     "metadata": {},
     "output_type": "execute_result"
    }
   ],
   "source": [
    "even_check(84686453276456)"
   ]
  },
  {
   "cell_type": "code",
   "execution_count": 6,
   "id": "8dbeffc8",
   "metadata": {},
   "outputs": [
    {
     "data": {
      "text/plain": [
       "False"
      ]
     },
     "execution_count": 6,
     "metadata": {},
     "output_type": "execute_result"
    }
   ],
   "source": [
    "even_check(345234762347)"
   ]
  },
  {
   "cell_type": "code",
   "execution_count": 7,
   "id": "022a4bcb",
   "metadata": {},
   "outputs": [],
   "source": [
    "def check_even_list(num_list):\n",
    "    for num in num_list:\n",
    "        if num % 2 == 0:\n",
    "            return True\n",
    "        else:\n",
    "            pass"
   ]
  },
  {
   "cell_type": "code",
   "execution_count": 9,
   "id": "1c8eb2d2",
   "metadata": {},
   "outputs": [
    {
     "data": {
      "text/plain": [
       "True"
      ]
     },
     "execution_count": 9,
     "metadata": {},
     "output_type": "execute_result"
    }
   ],
   "source": [
    "check_even_list([12,3,12,55,3,12,5,76,45,6345,213,43253453446,566,74549,8,63,2])"
   ]
  },
  {
   "cell_type": "code",
   "execution_count": 10,
   "id": "ce818413",
   "metadata": {},
   "outputs": [],
   "source": [
    "check_even_list([1,1])"
   ]
  },
  {
   "cell_type": "markdown",
   "id": "27d36e69",
   "metadata": {},
   "source": [
    "Here we writted a return, so if the condition is accomplished it just returns the result."
   ]
  },
  {
   "cell_type": "code",
   "execution_count": 11,
   "id": "7adf8a6c",
   "metadata": {},
   "outputs": [],
   "source": [
    "def check_even_list(num_list):\n",
    "    for num in num_list:\n",
    "        if num % 2 == 0:\n",
    "            return True\n",
    "        else:\n",
    "            pass\n",
    "    return False"
   ]
  },
  {
   "cell_type": "markdown",
   "id": "1fe408cc",
   "metadata": {},
   "source": [
    "If we want to return false if there is an odd number, then the false statement should be out of the for loop"
   ]
  },
  {
   "cell_type": "code",
   "execution_count": null,
   "id": "c25b6f80",
   "metadata": {},
   "outputs": [],
   "source": []
  }
 ],
 "metadata": {
  "kernelspec": {
   "display_name": "Python 3 (ipykernel)",
   "language": "python",
   "name": "python3"
  },
  "language_info": {
   "codemirror_mode": {
    "name": "ipython",
    "version": 3
   },
   "file_extension": ".py",
   "mimetype": "text/x-python",
   "name": "python",
   "nbconvert_exporter": "python",
   "pygments_lexer": "ipython3",
   "version": "3.9.13"
  }
 },
 "nbformat": 4,
 "nbformat_minor": 5
}
