{
 "cells": [
  {
   "cell_type": "code",
   "execution_count": 1,
   "id": "202a7acb",
   "metadata": {},
   "outputs": [
    {
     "name": "stdout",
     "output_type": "stream",
     "text": [
      "The value of X is: 0\n",
      "The value of X is: 1\n",
      "The value of X is: 2\n",
      "The value of X is: 3\n",
      "The value of X is: 4\n"
     ]
    }
   ],
   "source": [
    "x=0\n",
    "while x<5:\n",
    "    print(f'The value of X is: {x}')\n",
    "    x = x+1"
   ]
  },
  {
   "cell_type": "markdown",
   "id": "eb64fee2",
   "metadata": {},
   "source": [
    "while will continue to run until the statement end with else, or the condition is False:"
   ]
  },
  {
   "cell_type": "markdown",
   "id": "c5fd6df8",
   "metadata": {},
   "source": [
    "break, pass or continue are usefull statements in loops."
   ]
  },
  {
   "cell_type": "code",
   "execution_count": 4,
   "id": "5a23d9ac",
   "metadata": {},
   "outputs": [
    {
     "name": "stdout",
     "output_type": "stream",
     "text": [
      "still working\n"
     ]
    }
   ],
   "source": [
    "x = [1,2,3]\n",
    "\n",
    "for item in x:\n",
    "    #comment\n",
    "    pass\n",
    "\n",
    "print('still working')"
   ]
  },
  {
   "cell_type": "code",
   "execution_count": 8,
   "id": "3088318d",
   "metadata": {},
   "outputs": [
    {
     "name": "stdout",
     "output_type": "stream",
     "text": [
      "S\n",
      "a\n",
      "y\n"
     ]
    }
   ],
   "source": [
    "mystr = 'Sammy'\n",
    "\n",
    "for letter in mystr:\n",
    "    if letter == 'm':\n",
    "        continue\n",
    "    else:\n",
    "        print(letter)"
   ]
  },
  {
   "cell_type": "markdown",
   "id": "969ca8bd",
   "metadata": {},
   "source": [
    "pass does nothing, continue goes to the top of the closest enclosing loop. Break just stops the loop:"
   ]
  },
  {
   "cell_type": "code",
   "execution_count": 9,
   "id": "796da162",
   "metadata": {},
   "outputs": [
    {
     "name": "stdout",
     "output_type": "stream",
     "text": [
      "S\n",
      "a\n"
     ]
    }
   ],
   "source": [
    "mystr = 'Sammy'\n",
    "\n",
    "for letter in mystr:\n",
    "    if letter == 'm':\n",
    "        break\n",
    "    else:\n",
    "        print(letter)"
   ]
  },
  {
   "cell_type": "code",
   "execution_count": null,
   "id": "ff3fc6f7",
   "metadata": {},
   "outputs": [],
   "source": []
  }
 ],
 "metadata": {
  "kernelspec": {
   "display_name": "Python 3 (ipykernel)",
   "language": "python",
   "name": "python3"
  },
  "language_info": {
   "codemirror_mode": {
    "name": "ipython",
    "version": 3
   },
   "file_extension": ".py",
   "mimetype": "text/x-python",
   "name": "python",
   "nbconvert_exporter": "python",
   "pygments_lexer": "ipython3",
   "version": "3.9.13"
  }
 },
 "nbformat": 4,
 "nbformat_minor": 5
}
