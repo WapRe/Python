{
 "cells": [
  {
   "cell_type": "code",
   "execution_count": 1,
   "metadata": {},
   "outputs": [],
   "source": [
    "class Dog():\n",
    "    def __init__(self, breed, name, spots):\n",
    "        self.breed = breed\n",
    "        self.name = name\n",
    "\n",
    "        #We want to expect that spots is a boolean\n",
    "        self.spots = spots\n",
    "\n",
    "        #the attributes can be lists, floats, int, str, boolean, etc..."
   ]
  },
  {
   "attachments": {},
   "cell_type": "markdown",
   "metadata": {},
   "source": [
    "So we have our last function, we know that those atributes are particular of the class, but we also know that there are other that will be the same no matter what we pass in, like in our Dog class, all of them are \"mammals\"\n",
    "We can set this type of perma-attributes at the same level of the class, above our init method:"
   ]
  },
  {
   "cell_type": "code",
   "execution_count": 3,
   "metadata": {},
   "outputs": [],
   "source": [
    "class Dog():\n",
    "\n",
    "    #CLASS OBJECTS ATTRIBUTES (Perma-Attributes)\n",
    "    #SAME FOR ANY INSTANCE OF A CLASS, SO WE DON'T USE THE 'self' KEYWORD, SINCE IS PARTICULAR REFERENCE FOR THE INSTANCE BELOW\n",
    "    species = 'Canis Familiaris'\n",
    "\n",
    "    #INSTANCE FOR PARTICULAR ATRIBUTES \n",
    "    def __init__(self, breed, name, spots):\n",
    "        self.breed = breed\n",
    "        self.name = name\n",
    "\n",
    "        #We want to expect that spots is a boolean\n",
    "        self.spots = spots\n"
   ]
  },
  {
   "cell_type": "code",
   "execution_count": 4,
   "metadata": {},
   "outputs": [],
   "source": [
    "my_dog = Dog(breed = 'BorCol', name = 'Loli', spots=True)"
   ]
  },
  {
   "cell_type": "code",
   "execution_count": 6,
   "metadata": {},
   "outputs": [
    {
     "data": {
      "text/plain": [
       "'Canis Familiaris'"
      ]
     },
     "execution_count": 6,
     "metadata": {},
     "output_type": "execute_result"
    }
   ],
   "source": [
    "my_dog.species"
   ]
  },
  {
   "attachments": {},
   "cell_type": "markdown",
   "metadata": {},
   "source": [
    "As expected, when we tab after the point, we have also the .species atribute unlocked. "
   ]
  },
  {
   "attachments": {},
   "cell_type": "markdown",
   "metadata": {},
   "source": [
    "Now we are going to define a method, that is a function inside of a class, that will work with the object in some way:"
   ]
  },
  {
   "cell_type": "code",
   "execution_count": 9,
   "metadata": {},
   "outputs": [],
   "source": [
    "class Dog():\n",
    "\n",
    "    #CLASS OBJECTS ATTRIBUTES (Perma-Attributes)\n",
    "    #SAME FOR ANY INSTANCE OF A CLASS, SO WE DON'T USE THE 'self' KEYWORD, SINCE IS PARTICULAR REFERENCE FOR THE INSTANCE BELOW\n",
    "    species = 'Canis Familiaris'\n",
    "\n",
    "    #INSTANCE FOR PARTICULAR ATRIBUTES:\n",
    "    def __init__(self, breed, name):\n",
    "        self.breed = breed\n",
    "        self.name = name\n",
    "    \n",
    "    #OPERATIONS/ACTIONS ---> METHODS\n",
    "    #using self as argument, we connect this to the instance below\n",
    "    def bark(self):\n",
    "        print(f'{self.name} said: Woof!')"
   ]
  },
  {
   "cell_type": "code",
   "execution_count": 11,
   "metadata": {},
   "outputs": [],
   "source": [
    "my_dog = Dog(breed = 'BorCol', name = 'Lolita')"
   ]
  },
  {
   "cell_type": "code",
   "execution_count": 13,
   "metadata": {},
   "outputs": [
    {
     "name": "stdout",
     "output_type": "stream",
     "text": [
      "Lolita said: Woof!\n"
     ]
    }
   ],
   "source": [
    "my_dog.bark()\n",
    "#As you can see, methods are called with (), and attributes not."
   ]
  },
  {
   "cell_type": "code",
   "execution_count": null,
   "metadata": {},
   "outputs": [],
   "source": []
  }
 ],
 "metadata": {
  "kernelspec": {
   "display_name": "Python 3",
   "language": "python",
   "name": "python3"
  },
  "language_info": {
   "codemirror_mode": {
    "name": "ipython",
    "version": 3
   },
   "file_extension": ".py",
   "mimetype": "text/x-python",
   "name": "python",
   "nbconvert_exporter": "python",
   "pygments_lexer": "ipython3",
   "version": "3.9.2"
  },
  "orig_nbformat": 4
 },
 "nbformat": 4,
 "nbformat_minor": 2
}
