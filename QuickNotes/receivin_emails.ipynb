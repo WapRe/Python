{
 "cells": [
  {
   "attachments": {},
   "cell_type": "markdown",
   "metadata": {},
   "source": [
    "To view received emails, we can use the 'imaplib' and 'email' libraries"
   ]
  },
  {
   "attachments": {},
   "cell_type": "markdown",
   "metadata": {},
   "source": [
    "It is important to check the specific syntax inbox we want to use , check the table"
   ]
  },
  {
   "cell_type": "code",
   "execution_count": 1,
   "metadata": {},
   "outputs": [],
   "source": [
    "import imaplib"
   ]
  },
  {
   "cell_type": "code",
   "execution_count": 2,
   "metadata": {},
   "outputs": [],
   "source": [
    "M = imaplib.IMAP4_SSL('imap.gmail.com')\n",
    "\n",
    "# we are setting up the instance"
   ]
  },
  {
   "cell_type": "code",
   "execution_count": null,
   "metadata": {},
   "outputs": [],
   "source": [
    "import getpass\n",
    "\n",
    "email = getpass.getpass('EMAIL: ')\n",
    "\n",
    "password = getpass.getpass('Password: ')\n",
    "\n",
    "M.login(email, password)\n",
    "\n",
    "# This is the basic log in we need to do with our app password"
   ]
  },
  {
   "cell_type": "code",
   "execution_count": null,
   "metadata": {},
   "outputs": [],
   "source": [
    "M.list() # This command allow to see what can we check from our email, for exemple our Inbox"
   ]
  },
  {
   "cell_type": "code",
   "execution_count": null,
   "metadata": {},
   "outputs": [],
   "source": [
    "M.select('inbox') # we should see an 'OK' from a sucessfull conection. Now we are at the inbox section. "
   ]
  },
  {
   "cell_type": "code",
   "execution_count": null,
   "metadata": {},
   "outputs": [],
   "source": [
    "typ, data = M.search(None, 'keyword')  # for exemple as keyword: BEFORE 01-Nov-2020 ; SUBJECT 'the_subject' , that will allow to set up filters, check the table! "
   ]
  },
  {
   "cell_type": "code",
   "execution_count": null,
   "metadata": {},
   "outputs": [],
   "source": [
    "# now if we type:\n",
    "\n",
    "typ # we should have ' OK '\n",
    "\n",
    "data # we should have a [list], with a number, it depends on the number of emails we find (unique ID, referencing the email)\n",
    "\n",
    "email_id = data[0] # this will set the ID"
   ]
  },
  {
   "cell_type": "code",
   "execution_count": null,
   "metadata": {},
   "outputs": [],
   "source": [
    "result, email_data = M.fetch(email_id,'(RFC822)') # here we fetch the email data, we can check it"
   ]
  },
  {
   "cell_type": "code",
   "execution_count": null,
   "metadata": {},
   "outputs": [],
   "source": [
    "email_data # now this will show us the email, but with a lot of info that we dont need, so:\n",
    "\n",
    "raw_email = email_data[0][1]\n",
    "\n",
    "raw_email_str = raw_email.decode('utf-8') # we set up a filter to be able to see the email in a readable form"
   ]
  },
  {
   "cell_type": "code",
   "execution_count": null,
   "metadata": {},
   "outputs": [],
   "source": [
    "import email\n",
    " # this helps us to grab the email from a string\n",
    "\n",
    "email_message = email.message_from_string(raw_email_str) # The problem is, that now email_message is an iterator, still can't be readable"
   ]
  },
  {
   "cell_type": "code",
   "execution_count": null,
   "metadata": {},
   "outputs": [],
   "source": [
    "for part in email_message.walk():\n",
    "    if part.get_content_type() == 'text/plain': # this is only when we expect plain text type emails, we can use 'text/html' for urls, links. \n",
    "        body = part.get_payload(decode=True)\n",
    "        print(body)\n",
    "\n",
    "#This loop allow to grab what we really want, and see the body of the message. "
   ]
  }
 ],
 "metadata": {
  "kernelspec": {
   "display_name": "Python 3",
   "language": "python",
   "name": "python3"
  },
  "language_info": {
   "codemirror_mode": {
    "name": "ipython",
    "version": 3
   },
   "file_extension": ".py",
   "mimetype": "text/x-python",
   "name": "python",
   "nbconvert_exporter": "python",
   "pygments_lexer": "ipython3",
   "version": "3.10.6"
  },
  "orig_nbformat": 4
 },
 "nbformat": 4,
 "nbformat_minor": 2
}
