{
 "cells": [
  {
   "cell_type": "code",
   "execution_count": 1,
   "id": "57ad15a8",
   "metadata": {},
   "outputs": [
    {
     "name": "stdout",
     "output_type": "stream",
     "text": [
      "Writing myfile.txt\n"
     ]
    }
   ],
   "source": [
    "%%writefile myfile.txt\n",
    "Hello this is a text file\n",
    "Just a test to try this"
   ]
  },
  {
   "cell_type": "markdown",
   "id": "2960a0dd",
   "metadata": {},
   "source": [
    "We have just created a txt file and it is located in the main directory of the notebook."
   ]
  },
  {
   "cell_type": "code",
   "execution_count": 3,
   "id": "23167f0f",
   "metadata": {},
   "outputs": [],
   "source": [
    "myfile = open('myfile.txt')"
   ]
  },
  {
   "cell_type": "code",
   "execution_count": 4,
   "id": "c473fd98",
   "metadata": {},
   "outputs": [
    {
     "ename": "FileNotFoundError",
     "evalue": "[Errno 2] No such file or directory: 'anotherfile.txt'",
     "output_type": "error",
     "traceback": [
      "\u001b[0;31m---------------------------------------------------------------------------\u001b[0m",
      "\u001b[0;31mFileNotFoundError\u001b[0m                         Traceback (most recent call last)",
      "\u001b[0;32m/tmp/ipykernel_58880/2004908843.py\u001b[0m in \u001b[0;36m<module>\u001b[0;34m\u001b[0m\n\u001b[0;32m----> 1\u001b[0;31m \u001b[0mmyfile\u001b[0m \u001b[0;34m=\u001b[0m \u001b[0mopen\u001b[0m\u001b[0;34m(\u001b[0m\u001b[0;34m'anotherfile.txt'\u001b[0m\u001b[0;34m)\u001b[0m\u001b[0;34m\u001b[0m\u001b[0;34m\u001b[0m\u001b[0m\n\u001b[0m",
      "\u001b[0;31mFileNotFoundError\u001b[0m: [Errno 2] No such file or directory: 'anotherfile.txt'"
     ]
    }
   ],
   "source": [
    "myfile = open('anotherfile.txt')"
   ]
  },
  {
   "cell_type": "markdown",
   "id": "fd08fc80",
   "metadata": {},
   "source": [
    "if the open function doesn't find the file, then an error occurs! Also needs to be as a string.\n",
    "The error can occur if we don't specify the full path of the file:"
   ]
  },
  {
   "cell_type": "code",
   "execution_count": 6,
   "id": "f966e6c3",
   "metadata": {},
   "outputs": [],
   "source": [
    "myfile =open('myfile.txt')"
   ]
  },
  {
   "cell_type": "code",
   "execution_count": 7,
   "id": "826e2bb9",
   "metadata": {},
   "outputs": [
    {
     "data": {
      "text/plain": [
       "'Hello this is a text file\\nJust a test to try this\\n'"
      ]
     },
     "execution_count": 7,
     "metadata": {},
     "output_type": "execute_result"
    }
   ],
   "source": [
    "myfile.read()"
   ]
  },
  {
   "cell_type": "markdown",
   "id": "ebd5e8da",
   "metadata": {},
   "source": [
    "read() function reads the file on the terminal, then the 'cursor' is at the end, so if we read it again, nothing appears:"
   ]
  },
  {
   "cell_type": "code",
   "execution_count": 8,
   "id": "2bf0bc31",
   "metadata": {},
   "outputs": [
    {
     "data": {
      "text/plain": [
       "''"
      ]
     },
     "execution_count": 8,
     "metadata": {},
     "output_type": "execute_result"
    }
   ],
   "source": [
    "myfile.read()"
   ]
  },
  {
   "cell_type": "markdown",
   "id": "8bda9fc9",
   "metadata": {},
   "source": [
    "We need to reset the cursor at the beggining:"
   ]
  },
  {
   "cell_type": "code",
   "execution_count": 14,
   "id": "cc5a720b",
   "metadata": {},
   "outputs": [
    {
     "data": {
      "text/plain": [
       "0"
      ]
     },
     "execution_count": 14,
     "metadata": {},
     "output_type": "execute_result"
    }
   ],
   "source": [
    "myfile.seek(0)"
   ]
  },
  {
   "cell_type": "code",
   "execution_count": 10,
   "id": "1115d381",
   "metadata": {},
   "outputs": [
    {
     "data": {
      "text/plain": [
       "'Hello this is a text file\\nJust a test to try this\\n'"
      ]
     },
     "execution_count": 10,
     "metadata": {},
     "output_type": "execute_result"
    }
   ],
   "source": [
    "myfile.read()"
   ]
  },
  {
   "cell_type": "markdown",
   "id": "4a547756",
   "metadata": {},
   "source": [
    "In order to don't loose it when readed, it is recommended to keep the data in a variable."
   ]
  },
  {
   "cell_type": "code",
   "execution_count": 12,
   "id": "82310ef5",
   "metadata": {},
   "outputs": [],
   "source": [
    "contents = myfile.read()"
   ]
  },
  {
   "cell_type": "code",
   "execution_count": 13,
   "id": "b27f778a",
   "metadata": {},
   "outputs": [
    {
     "data": {
      "text/plain": [
       "'Hello this is a text file\\nJust a test to try this\\n'"
      ]
     },
     "execution_count": 13,
     "metadata": {},
     "output_type": "execute_result"
    }
   ],
   "source": [
    "contents"
   ]
  },
  {
   "cell_type": "markdown",
   "id": "8686cbbd",
   "metadata": {},
   "source": [
    "We can use the function readlines() to output the content as a list:"
   ]
  },
  {
   "cell_type": "code",
   "execution_count": 15,
   "id": "4164cce7",
   "metadata": {},
   "outputs": [
    {
     "data": {
      "text/plain": [
       "['Hello this is a text file\\n', 'Just a test to try this\\n']"
      ]
     },
     "execution_count": 15,
     "metadata": {},
     "output_type": "execute_result"
    }
   ],
   "source": [
    "myfile.readlines()"
   ]
  },
  {
   "cell_type": "markdown",
   "id": "6699a2df",
   "metadata": {},
   "source": [
    "In order to not get any errors, we need to close the file at the end to be able to open it later in another instance:"
   ]
  },
  {
   "cell_type": "code",
   "execution_count": 16,
   "id": "3552cc2e",
   "metadata": {},
   "outputs": [],
   "source": [
    "myfile.close()"
   ]
  },
  {
   "cell_type": "markdown",
   "id": "7d2d8184",
   "metadata": {},
   "source": [
    "To not be worried about closing the file we can open it like this:"
   ]
  },
  {
   "cell_type": "code",
   "execution_count": 24,
   "id": "f09b4cb6",
   "metadata": {},
   "outputs": [],
   "source": [
    "with open('myfile.txt',mode='r+') as myfile:\n",
    "    myfile.seek(0)\n",
    "    contents = myfile.read()"
   ]
  },
  {
   "cell_type": "code",
   "execution_count": 25,
   "id": "0ed0fef6",
   "metadata": {},
   "outputs": [
    {
     "data": {
      "text/plain": [
       "''"
      ]
     },
     "execution_count": 25,
     "metadata": {},
     "output_type": "execute_result"
    }
   ],
   "source": [
    "contents"
   ]
  },
  {
   "cell_type": "markdown",
   "id": "a2b94633",
   "metadata": {},
   "source": [
    "modes of the file can varie, r for read, w for write, a for append or add on to files, r+ read+write or w+ that is write and read but overwriting!"
   ]
  },
  {
   "cell_type": "markdown",
   "id": "710d2212",
   "metadata": {},
   "source": [
    "Lets try with another file:"
   ]
  },
  {
   "cell_type": "code",
   "execution_count": 26,
   "id": "da244fb0",
   "metadata": {},
   "outputs": [
    {
     "name": "stdout",
     "output_type": "stream",
     "text": [
      "Overwriting myfile.txt\n"
     ]
    }
   ],
   "source": [
    "%%writefile myfile.txt\n",
    "One on first\n",
    "Two on second\n",
    "Three on third"
   ]
  },
  {
   "cell_type": "code",
   "execution_count": 27,
   "id": "920c3a48",
   "metadata": {},
   "outputs": [
    {
     "name": "stdout",
     "output_type": "stream",
     "text": [
      "One on first\n",
      "Two on second\n",
      "Three on third\n",
      "\n"
     ]
    }
   ],
   "source": [
    "with open('myfile.txt', mode='r') as file:\n",
    "    print(file.read())"
   ]
  },
  {
   "cell_type": "code",
   "execution_count": 28,
   "id": "34cff590",
   "metadata": {},
   "outputs": [],
   "source": [
    "with open('myfile.txt',mode='a') as file:\n",
    "    file.write('FOUR')\n",
    "    #Since we run the read before, the cursor is at the end, so it will append at the end of the file"
   ]
  },
  {
   "cell_type": "code",
   "execution_count": 30,
   "id": "e6c157a3",
   "metadata": {},
   "outputs": [
    {
     "name": "stdout",
     "output_type": "stream",
     "text": [
      "One on first\n",
      "Two on second\n",
      "Three on third\n",
      "FOUR\n"
     ]
    }
   ],
   "source": [
    "with open('myfile.txt', mode='r') as file:\n",
    "    print(file.read())"
   ]
  },
  {
   "cell_type": "code",
   "execution_count": 33,
   "id": "44ee74de",
   "metadata": {},
   "outputs": [],
   "source": [
    "with open('newfile.txt',mode='w') as file2:\n",
    "    file2.write('Hi, new file created')"
   ]
  },
  {
   "cell_type": "code",
   "execution_count": 36,
   "id": "20a05bc3",
   "metadata": {},
   "outputs": [
    {
     "name": "stdout",
     "output_type": "stream",
     "text": [
      "Hi, new file created\n"
     ]
    }
   ],
   "source": [
    "with open('newfile.txt',mode='r') as file2:\n",
    "    print(file2.read())"
   ]
  },
  {
   "cell_type": "code",
   "execution_count": null,
   "id": "bb42843e",
   "metadata": {},
   "outputs": [],
   "source": []
  }
 ],
 "metadata": {
  "kernelspec": {
   "display_name": "Python 3 (ipykernel)",
   "language": "python",
   "name": "python3"
  },
  "language_info": {
   "codemirror_mode": {
    "name": "ipython",
    "version": 3
   },
   "file_extension": ".py",
   "mimetype": "text/x-python",
   "name": "python",
   "nbconvert_exporter": "python",
   "pygments_lexer": "ipython3",
   "version": "3.9.13"
  }
 },
 "nbformat": 4,
 "nbformat_minor": 5
}
