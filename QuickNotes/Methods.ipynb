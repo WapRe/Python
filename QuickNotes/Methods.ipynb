{
 "cells": [
  {
   "cell_type": "markdown",
   "id": "ce1e35bd",
   "metadata": {},
   "source": [
    "Usefull Methods:"
   ]
  },
  {
   "cell_type": "code",
   "execution_count": 1,
   "id": "1fb03d0b",
   "metadata": {},
   "outputs": [],
   "source": [
    "x = 'Hello World'"
   ]
  },
  {
   "cell_type": "code",
   "execution_count": 2,
   "id": "91146b80",
   "metadata": {},
   "outputs": [
    {
     "data": {
      "text/plain": [
       "'HELLO WORLD'"
      ]
     },
     "execution_count": 2,
     "metadata": {},
     "output_type": "execute_result"
    }
   ],
   "source": [
    "x.upper()"
   ]
  },
  {
   "cell_type": "markdown",
   "id": "2630dc59",
   "metadata": {},
   "source": [
    "It is important to put the (), otherwise, the function will not run!"
   ]
  },
  {
   "cell_type": "code",
   "execution_count": 3,
   "id": "c842cdff",
   "metadata": {},
   "outputs": [
    {
     "data": {
      "text/plain": [
       "'hello world'"
      ]
     },
     "execution_count": 3,
     "metadata": {},
     "output_type": "execute_result"
    }
   ],
   "source": [
    "x.lower()"
   ]
  },
  {
   "cell_type": "code",
   "execution_count": 4,
   "id": "1dc7fd7e",
   "metadata": {},
   "outputs": [
    {
     "data": {
      "text/plain": [
       "['Hello', 'World']"
      ]
     },
     "execution_count": 4,
     "metadata": {},
     "output_type": "execute_result"
    }
   ],
   "source": [
    "x.split()"
   ]
  },
  {
   "cell_type": "markdown",
   "id": "25f5bb2a",
   "metadata": {},
   "source": [
    "split will separate on the white space, or the str we pass in"
   ]
  },
  {
   "cell_type": "code",
   "execution_count": 5,
   "id": "78a14f5b",
   "metadata": {},
   "outputs": [
    {
     "data": {
      "text/plain": [
       "['He', '', 'o Wor', 'd']"
      ]
     },
     "execution_count": 5,
     "metadata": {},
     "output_type": "execute_result"
    }
   ],
   "source": [
    "x.split('l')"
   ]
  },
  {
   "cell_type": "markdown",
   "id": "135ca82b",
   "metadata": {},
   "source": [
    "It splits on the 'l' , and removes it creating a list"
   ]
  }
 ],
 "metadata": {
  "kernelspec": {
   "display_name": "Python 3 (ipykernel)",
   "language": "python",
   "name": "python3"
  },
  "language_info": {
   "codemirror_mode": {
    "name": "ipython",
    "version": 3
   },
   "file_extension": ".py",
   "mimetype": "text/x-python",
   "name": "python",
   "nbconvert_exporter": "python",
   "pygments_lexer": "ipython3",
   "version": "3.9.13"
  }
 },
 "nbformat": 4,
 "nbformat_minor": 5
}
