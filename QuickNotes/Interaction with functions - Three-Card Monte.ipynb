{
 "cells": [
  {
   "cell_type": "code",
   "execution_count": 1,
   "id": "547f2aeb",
   "metadata": {},
   "outputs": [],
   "source": [
    "example = [1,2,3,4,5,6,7]"
   ]
  },
  {
   "cell_type": "code",
   "execution_count": 2,
   "id": "de71cb99",
   "metadata": {},
   "outputs": [],
   "source": [
    "from random import shuffle"
   ]
  },
  {
   "cell_type": "code",
   "execution_count": 3,
   "id": "654ad227",
   "metadata": {},
   "outputs": [],
   "source": [
    "shuffle(example)"
   ]
  },
  {
   "cell_type": "code",
   "execution_count": 4,
   "id": "ad8e9e5b",
   "metadata": {},
   "outputs": [
    {
     "data": {
      "text/plain": [
       "[5, 6, 2, 7, 1, 3, 4]"
      ]
     },
     "execution_count": 4,
     "metadata": {},
     "output_type": "execute_result"
    }
   ],
   "source": [
    "example"
   ]
  },
  {
   "cell_type": "markdown",
   "id": "a7095111",
   "metadata": {},
   "source": [
    "We just created a list with objects and shuffled them with the import shuffle"
   ]
  },
  {
   "cell_type": "code",
   "execution_count": 5,
   "id": "d82ae0dd",
   "metadata": {},
   "outputs": [],
   "source": [
    "def shuffle_list (mylist):\n",
    "    shuffle(mylist)\n",
    "    return mylist"
   ]
  },
  {
   "cell_type": "code",
   "execution_count": 15,
   "id": "3e6b6cc5",
   "metadata": {},
   "outputs": [],
   "source": [
    "result =shuffle_list(example)"
   ]
  },
  {
   "cell_type": "code",
   "execution_count": 16,
   "id": "af821432",
   "metadata": {},
   "outputs": [
    {
     "data": {
      "text/plain": [
       "[5, 4, 7, 1, 3, 2, 6]"
      ]
     },
     "execution_count": 16,
     "metadata": {},
     "output_type": "execute_result"
    }
   ],
   "source": [
    "result"
   ]
  },
  {
   "cell_type": "markdown",
   "id": "d24d66fd",
   "metadata": {},
   "source": [
    "We are going to apply this to the Three-Card Monte game, for this we can simulate a list with 2 empty spaces and 1 'O'. Then when shuffled, it will change the position inside the list:"
   ]
  },
  {
   "cell_type": "code",
   "execution_count": 17,
   "id": "2079756d",
   "metadata": {},
   "outputs": [],
   "source": [
    "mylist = ['','O','']"
   ]
  },
  {
   "cell_type": "code",
   "execution_count": 22,
   "id": "21b2ea95",
   "metadata": {},
   "outputs": [
    {
     "data": {
      "text/plain": [
       "['O', '', '']"
      ]
     },
     "execution_count": 22,
     "metadata": {},
     "output_type": "execute_result"
    }
   ],
   "source": [
    "shuffle_list(mylist)"
   ]
  },
  {
   "cell_type": "markdown",
   "id": "e504f4d3",
   "metadata": {},
   "source": [
    "Me made before the shuffle_list function, so now we need to create another function that simulates the player guess:"
   ]
  },
  {
   "cell_type": "code",
   "execution_count": 31,
   "id": "4f3bc883",
   "metadata": {},
   "outputs": [],
   "source": [
    "def player_guess():\n",
    "    guess = ''\n",
    "    \n",
    "    while guess not in ['0','1','2']:\n",
    "        guess = input('Pick a number: 0, 1 or 2. ')\n",
    "    \n",
    "    return int(guess)"
   ]
  },
  {
   "cell_type": "code",
   "execution_count": 24,
   "id": "1a554f5b",
   "metadata": {},
   "outputs": [
    {
     "name": "stdout",
     "output_type": "stream",
     "text": [
      "Pick a number: 0, 1 or 25\n",
      "Pick a number: 0, 1 or 29\n",
      "Pick a number: 0, 1 or 21\n"
     ]
    },
    {
     "data": {
      "text/plain": [
       "1"
      ]
     },
     "execution_count": 24,
     "metadata": {},
     "output_type": "execute_result"
    }
   ],
   "source": [
    "player_guess()"
   ]
  },
  {
   "cell_type": "code",
   "execution_count": 32,
   "id": "04820f12",
   "metadata": {},
   "outputs": [
    {
     "name": "stdout",
     "output_type": "stream",
     "text": [
      "Pick a number: 0, 1 or 2. 3\n",
      "Pick a number: 0, 1 or 2. 1\n"
     ]
    }
   ],
   "source": [
    "myindex = player_guess()"
   ]
  },
  {
   "cell_type": "code",
   "execution_count": 33,
   "id": "0880016f",
   "metadata": {},
   "outputs": [
    {
     "data": {
      "text/plain": [
       "1"
      ]
     },
     "execution_count": 33,
     "metadata": {},
     "output_type": "execute_result"
    }
   ],
   "source": [
    "myindex"
   ]
  },
  {
   "cell_type": "markdown",
   "id": "4b15cd7b",
   "metadata": {},
   "source": [
    "now we need to combine both function in order to check if the guess and the result are the same:"
   ]
  },
  {
   "cell_type": "code",
   "execution_count": 34,
   "id": "d73df2ff",
   "metadata": {},
   "outputs": [],
   "source": [
    "def check_guess(mylist,guess):\n",
    "    if mylist[guess] == 'O':\n",
    "        print('Correct!')\n",
    "    else:\n",
    "        print('Wrong guess!')\n",
    "        print(mylist)"
   ]
  },
  {
   "cell_type": "markdown",
   "id": "d6f14844",
   "metadata": {},
   "source": [
    "Now we have the 3 functions that we need to play the game, then, we need to apply some logic in order to relate them:"
   ]
  },
  {
   "cell_type": "code",
   "execution_count": 38,
   "id": "e7fba601",
   "metadata": {},
   "outputs": [
    {
     "name": "stdout",
     "output_type": "stream",
     "text": [
      "Pick a number: 0, 1 or 2. 1\n",
      "Wrong guess!\n",
      "[' ', ' ', 'O']\n"
     ]
    }
   ],
   "source": [
    "# Initial List\n",
    "mylist = [' ','O',' ']\n",
    "\n",
    "#Shuffle List\n",
    "mixed_list = shuffle_list(mylist)\n",
    "\n",
    "#User Guess\n",
    "guess = player_guess()\n",
    "\n",
    "#Check Guess\n",
    "check_guess(mixed_list,guess)"
   ]
  },
  {
   "cell_type": "markdown",
   "id": "26111c3a",
   "metadata": {},
   "source": [
    "The game is done. "
   ]
  }
 ],
 "metadata": {
  "kernelspec": {
   "display_name": "Python 3 (ipykernel)",
   "language": "python",
   "name": "python3"
  },
  "language_info": {
   "codemirror_mode": {
    "name": "ipython",
    "version": 3
   },
   "file_extension": ".py",
   "mimetype": "text/x-python",
   "name": "python",
   "nbconvert_exporter": "python",
   "pygments_lexer": "ipython3",
   "version": "3.9.13"
  }
 },
 "nbformat": 4,
 "nbformat_minor": 5
}
