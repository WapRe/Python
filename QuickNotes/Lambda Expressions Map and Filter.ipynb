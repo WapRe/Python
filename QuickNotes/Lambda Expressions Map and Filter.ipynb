{
 "cells": [
  {
   "cell_type": "code",
   "execution_count": 1,
   "id": "bebaed85",
   "metadata": {},
   "outputs": [],
   "source": [
    "def square(num):\n",
    "    return num**2"
   ]
  },
  {
   "cell_type": "code",
   "execution_count": 2,
   "id": "a8dc7b9a",
   "metadata": {},
   "outputs": [],
   "source": [
    "my_nums = [1,2,3,4,5]"
   ]
  },
  {
   "cell_type": "code",
   "execution_count": 5,
   "id": "89d6f60b",
   "metadata": {},
   "outputs": [
    {
     "name": "stdout",
     "output_type": "stream",
     "text": [
      "1\n",
      "4\n",
      "9\n",
      "16\n",
      "25\n"
     ]
    }
   ],
   "source": [
    "for item in map(square,my_nums):\n",
    "    print(item)"
   ]
  },
  {
   "cell_type": "markdown",
   "id": "cf6fc0a2",
   "metadata": {},
   "source": [
    "map allows to apply a function to all the objects of a list, tupple or dictionnary"
   ]
  },
  {
   "cell_type": "code",
   "execution_count": 6,
   "id": "8e98df7b",
   "metadata": {},
   "outputs": [
    {
     "data": {
      "text/plain": [
       "[1, 4, 9, 16, 25]"
      ]
     },
     "execution_count": 6,
     "metadata": {},
     "output_type": "execute_result"
    }
   ],
   "source": [
    "list(map(square,my_nums))"
   ]
  },
  {
   "cell_type": "code",
   "execution_count": 7,
   "id": "0eeb2b9b",
   "metadata": {},
   "outputs": [],
   "source": [
    "def check_even(num):\n",
    "    return num%2 == 0"
   ]
  },
  {
   "cell_type": "code",
   "execution_count": 8,
   "id": "6079ca78",
   "metadata": {},
   "outputs": [],
   "source": [
    "mynums = [1,2,3,4,5,6]"
   ]
  },
  {
   "cell_type": "code",
   "execution_count": 10,
   "id": "a821743a",
   "metadata": {},
   "outputs": [
    {
     "data": {
      "text/plain": [
       "[2, 4, 6]"
      ]
     },
     "execution_count": 10,
     "metadata": {},
     "output_type": "execute_result"
    }
   ],
   "source": [
    "list(filter(check_even,mynums))"
   ]
  },
  {
   "cell_type": "markdown",
   "id": "8740d062",
   "metadata": {},
   "source": [
    "filter can be used with a function that returns True or False, as same as map, you give a function and a list, and it filters the objects of the list based on the function."
   ]
  },
  {
   "cell_type": "code",
   "execution_count": 13,
   "id": "68e7d5d0",
   "metadata": {},
   "outputs": [],
   "source": [
    "def square(num):\n",
    "    return num ** 2"
   ]
  },
  {
   "cell_type": "code",
   "execution_count": 14,
   "id": "98e2ab67",
   "metadata": {},
   "outputs": [
    {
     "data": {
      "text/plain": [
       "81"
      ]
     },
     "execution_count": 14,
     "metadata": {},
     "output_type": "execute_result"
    }
   ],
   "source": [
    "square(9)"
   ]
  },
  {
   "cell_type": "markdown",
   "id": "f864c763",
   "metadata": {},
   "source": [
    "we can here use a lambda expression, that is a function without name, normally used for particular cases where it is a simple function:"
   ]
  },
  {
   "cell_type": "code",
   "execution_count": 17,
   "id": "02692da1",
   "metadata": {},
   "outputs": [],
   "source": [
    "square = lambda num: num ** 2"
   ]
  },
  {
   "cell_type": "code",
   "execution_count": 18,
   "id": "c8db486a",
   "metadata": {},
   "outputs": [
    {
     "data": {
      "text/plain": [
       "64"
      ]
     },
     "execution_count": 18,
     "metadata": {},
     "output_type": "execute_result"
    }
   ],
   "source": [
    "square(8)"
   ]
  },
  {
   "cell_type": "markdown",
   "id": "69bd3cfe",
   "metadata": {},
   "source": [
    "We are typically using this with conjunction with map and filter"
   ]
  },
  {
   "cell_type": "code",
   "execution_count": 19,
   "id": "94f2cdb9",
   "metadata": {},
   "outputs": [
    {
     "data": {
      "text/plain": [
       "[1, 4, 9, 16, 25, 36]"
      ]
     },
     "execution_count": 19,
     "metadata": {},
     "output_type": "execute_result"
    }
   ],
   "source": [
    "list(map(lambda num:num**2, mynums))"
   ]
  },
  {
   "cell_type": "markdown",
   "id": "13d3fa0b",
   "metadata": {},
   "source": [
    "every number, in mynums list, has now been squared"
   ]
  },
  {
   "cell_type": "code",
   "execution_count": null,
   "id": "47e47366",
   "metadata": {},
   "outputs": [],
   "source": []
  }
 ],
 "metadata": {
  "kernelspec": {
   "display_name": "Python 3 (ipykernel)",
   "language": "python",
   "name": "python3"
  },
  "language_info": {
   "codemirror_mode": {
    "name": "ipython",
    "version": 3
   },
   "file_extension": ".py",
   "mimetype": "text/x-python",
   "name": "python",
   "nbconvert_exporter": "python",
   "pygments_lexer": "ipython3",
   "version": "3.9.13"
  }
 },
 "nbformat": 4,
 "nbformat_minor": 5
}
