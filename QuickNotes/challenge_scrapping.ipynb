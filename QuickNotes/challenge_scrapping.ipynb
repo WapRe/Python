{
 "cells": [
  {
   "attachments": {},
   "cell_type": "markdown",
   "metadata": {},
   "source": [
    "We are going to loop from all the pages and all the authors that are on the web page:"
   ]
  },
  {
   "cell_type": "code",
   "execution_count": 4,
   "metadata": {},
   "outputs": [
    {
     "name": "stdout",
     "output_type": "stream",
     "text": [
      "['Albert Einstein', 'J.K. Rowling', 'Albert Einstein', 'Jane Austen', 'Marilyn Monroe', 'Albert Einstein', 'André Gide', 'Thomas A. Edison', 'Eleanor Roosevelt', 'Steve Martin', 'Marilyn Monroe', 'J.K. Rowling', 'Albert Einstein', 'Bob Marley', 'Dr. Seuss', 'Douglas Adams', 'Elie Wiesel', 'Friedrich Nietzsche', 'Mark Twain', 'Allen Saunders', 'Pablo Neruda', 'Ralph Waldo Emerson', 'Mother Teresa', 'Garrison Keillor', 'Jim Henson', 'Dr. Seuss', 'Albert Einstein', 'J.K. Rowling', 'Albert Einstein', 'Bob Marley', 'Dr. Seuss', 'J.K. Rowling', 'Bob Marley', 'Mother Teresa', 'J.K. Rowling', 'Charles M. Schulz', 'William Nicholson', 'Albert Einstein', 'Jorge Luis Borges', 'George Eliot', 'George R.R. Martin', 'C.S. Lewis', 'Marilyn Monroe', 'Marilyn Monroe', 'Albert Einstein', 'Marilyn Monroe', 'Marilyn Monroe', 'Martin Luther King Jr.', 'J.K. Rowling', 'James Baldwin', 'Jane Austen', 'Eleanor Roosevelt', 'Marilyn Monroe', 'Albert Einstein', 'Haruki Murakami', 'Alexandre Dumas fils', 'Stephenie Meyer', 'Ernest Hemingway', 'Helen Keller', 'George Bernard Shaw', 'Charles Bukowski', 'Suzanne Collins', 'Suzanne Collins', 'C.S. Lewis', 'J.R.R. Tolkien', 'J.K. Rowling', 'Ernest Hemingway', 'Ralph Waldo Emerson', 'Mark Twain', 'Dr. Seuss', 'Alfred Tennyson', 'Charles Bukowski', 'Terry Pratchett', 'Dr. Seuss', 'J.D. Salinger', 'George Carlin', 'John Lennon', 'W.C. Fields', 'Ayn Rand', 'Mark Twain', 'Albert Einstein', 'Jane Austen', 'J.K. Rowling', 'Jane Austen', 'Jane Austen', 'C.S. Lewis', 'C.S. Lewis', 'Mark Twain', 'Mark Twain', 'C.S. Lewis', 'J.K. Rowling', 'Jimi Hendrix', 'J.M. Barrie', 'E.E. Cummings', 'Khaled Hosseini', 'Harper Lee', \"Madeleine L'Engle\", 'Mark Twain', 'Dr. Seuss', 'George R.R. Martin']\n"
     ]
    }
   ],
   "source": [
    "import requests\n",
    "import bs4\n",
    "import lxml\n",
    "\n",
    "authors = []\n",
    "\n",
    "# Loop through all the pages\n",
    "for page_num in range(1, 11):\n",
    "    url = f\"http://quotes.toscrape.com/page/{page_num}/\"\n",
    "\n",
    "    # Send a GET request to the URL\n",
    "    response = requests.get(url)\n",
    "\n",
    "    # Parse the HTML content of the page using bs4 and lxml\n",
    "    soup = bs4.BeautifulSoup(response.content, 'lxml')\n",
    "\n",
    "    # Find the elements you want to extract data from\n",
    "    # In this case, we want to extract all the author names\n",
    "    author_tags = soup.find_all('small', {'class': 'author'})\n",
    "\n",
    "    # Add the author names to the list of authors\n",
    "    for author_tag in author_tags:\n",
    "        authors.append(author_tag.text)\n",
    "\n",
    "# Print the list of authors\n",
    "print(authors)\n",
    "\n"
   ]
  },
  {
   "attachments": {},
   "cell_type": "markdown",
   "metadata": {},
   "source": [
    "We are going to look for all the tags on the web page: "
   ]
  },
  {
   "cell_type": "code",
   "execution_count": 2,
   "metadata": {},
   "outputs": [
    {
     "name": "stdout",
     "output_type": "stream",
     "text": [
      "['love', 'inspirational', 'life', 'humor', 'books', 'reading', 'friendship', 'friends', 'truth', 'simile']\n"
     ]
    }
   ],
   "source": [
    "import requests\n",
    "import bs4\n",
    "import lxml\n",
    "\n",
    "url = \"http://quotes.toscrape.com/page/1/\"\n",
    "\n",
    "# Send a GET request to the URL\n",
    "response = requests.get(url)\n",
    "\n",
    "# Parse the HTML content of the page using bs4 and lxml\n",
    "soup = bs4.BeautifulSoup(response.content, 'lxml')\n",
    "\n",
    "# Find the elements you want to extract data from\n",
    "# In this case, we want to extract the tag names\n",
    "tag_items = soup.select('div.tags-box span.tag-item')\n",
    "\n",
    "# Extract the tag names\n",
    "tags = []\n",
    "for tag_item in tag_items:\n",
    "    tag_name = tag_item.select_one('a.tag').text\n",
    "    tags.append(tag_name)\n",
    "\n",
    "# Print the list of tag names\n",
    "print(tags)\n",
    "\n"
   ]
  }
 ],
 "metadata": {
  "kernelspec": {
   "display_name": "Python 3",
   "language": "python",
   "name": "python3"
  },
  "language_info": {
   "codemirror_mode": {
    "name": "ipython",
    "version": 3
   },
   "file_extension": ".py",
   "mimetype": "text/x-python",
   "name": "python",
   "nbconvert_exporter": "python",
   "pygments_lexer": "ipython3",
   "version": "3.10.6"
  },
  "orig_nbformat": 4
 },
 "nbformat": 4,
 "nbformat_minor": 2
}
