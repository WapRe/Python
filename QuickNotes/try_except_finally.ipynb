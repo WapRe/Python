{
  "metadata": {
    "language_info": {
      "codemirror_mode": {
        "name": "python",
        "version": 3
      },
      "file_extension": ".py",
      "mimetype": "text/x-python",
      "name": "python",
      "nbconvert_exporter": "python",
      "pygments_lexer": "ipython3",
      "version": "3.8"
    },
    "kernelspec": {
      "name": "python",
      "display_name": "Python (Pyodide)",
      "language": "python"
    }
  },
  "nbformat_minor": 4,
  "nbformat": 4,
  "cells": [
    {
      "cell_type": "markdown",
      "source": "  error handling allows us to run the code even if an error occur. ",
      "metadata": {}
    },
    {
      "cell_type": "markdown",
      "source": "try: the block of code to be attempted, may lead to an error; \nexcept: Block of code that will be executed if there is an error in the try block; \nfinally: A final block of code to be executed, regardless of an error. ",
      "metadata": {}
    },
    {
      "cell_type": "code",
      "source": "def add(n1,n2):\n    print(n1+n2)",
      "metadata": {
        "trusted": true
      },
      "execution_count": 2,
      "outputs": []
    },
    {
      "cell_type": "code",
      "source": "add(10,20)",
      "metadata": {
        "trusted": true
      },
      "execution_count": 3,
      "outputs": [
        {
          "name": "stdout",
          "text": "30\n",
          "output_type": "stream"
        }
      ]
    },
    {
      "cell_type": "markdown",
      "source": "lets force a basic type error",
      "metadata": {}
    },
    {
      "cell_type": "code",
      "source": "add(1,'2')",
      "metadata": {
        "trusted": true
      },
      "execution_count": 4,
      "outputs": [
        {
          "ename": "<class 'TypeError'>",
          "evalue": "unsupported operand type(s) for +: 'int' and 'str'",
          "traceback": [
            "\u001b[0;31m---------------------------------------------------------------------------\u001b[0m",
            "\u001b[0;31mTypeError\u001b[0m                                 Traceback (most recent call last)",
            "Cell \u001b[0;32mIn[4], line 1\u001b[0m\n\u001b[0;32m----> 1\u001b[0m \u001b[43madd\u001b[49m\u001b[43m(\u001b[49m\u001b[38;5;241;43m1\u001b[39;49m\u001b[43m,\u001b[49m\u001b[38;5;124;43m'\u001b[39;49m\u001b[38;5;124;43m2\u001b[39;49m\u001b[38;5;124;43m'\u001b[39;49m\u001b[43m)\u001b[49m\n",
            "Cell \u001b[0;32mIn[2], line 2\u001b[0m, in \u001b[0;36madd\u001b[0;34m(n1, n2)\u001b[0m\n\u001b[1;32m      1\u001b[0m \u001b[38;5;28;01mdef\u001b[39;00m \u001b[38;5;21madd\u001b[39m(n1,n2):\n\u001b[0;32m----> 2\u001b[0m     \u001b[38;5;28mprint\u001b[39m(\u001b[43mn1\u001b[49m\u001b[38;5;241;43m+\u001b[39;49m\u001b[43mn2\u001b[49m)\n",
            "\u001b[0;31mTypeError\u001b[0m: unsupported operand type(s) for +: 'int' and 'str'"
          ],
          "output_type": "error"
        }
      ]
    },
    {
      "cell_type": "markdown",
      "source": "we can use the try keyword",
      "metadata": {}
    },
    {
      "cell_type": "code",
      "source": "try:\n    #block that may have an error\n    result = 10 + 10\nexcept: \n    print('The input is not working')",
      "metadata": {
        "trusted": true
      },
      "execution_count": 12,
      "outputs": []
    },
    {
      "cell_type": "code",
      "source": "result",
      "metadata": {
        "trusted": true
      },
      "execution_count": 13,
      "outputs": [
        {
          "execution_count": 13,
          "output_type": "execute_result",
          "data": {
            "text/plain": "20"
          },
          "metadata": {}
        }
      ]
    },
    {
      "cell_type": "code",
      "source": "try:\n    #block that may have an error\n    result = 10 + '10'\nexcept: \n    print('The input is not working')",
      "metadata": {
        "trusted": true
      },
      "execution_count": 14,
      "outputs": [
        {
          "name": "stdout",
          "text": "The input is not working\n",
          "output_type": "stream"
        }
      ]
    },
    {
      "cell_type": "markdown",
      "source": "The first program works fine, since we are adding int + int, but when we change types, the error is not appearing and the rest of the code still running",
      "metadata": {}
    },
    {
      "cell_type": "code",
      "source": "try:\n    #block that may have an error\n    result = 10 + 10\nexcept: \n    print('The input is not working')\n\nelse:\n    print('Add went well')\n    print(result)\n    \n# Here, is in the try block there is an error, then the except code will run\n# But if not, the else statement will run",
      "metadata": {
        "trusted": true
      },
      "execution_count": 16,
      "outputs": [
        {
          "name": "stdout",
          "text": "Add went well\n20\n",
          "output_type": "stream"
        }
      ]
    },
    {
      "cell_type": "markdown",
      "source": "We can especify which error are we exepecting, or may occur. ",
      "metadata": {}
    },
    {
      "cell_type": "code",
      "source": "try:\n    f = open('testfile','w')\n    f.write('Write a test line')\nexcept TypeError:\n    print('There was a type error!')\nexcept OSError:\n    print('Hey you have an OS error!')\n\n# we can keep on going with different exceptions, and at the end an else statement to set the rest of the code that we want to be executed\n# or a finally block that will always run, no matter what\n\nfinally:\n    print(\"I'm always there\")\n    ",
      "metadata": {
        "trusted": true
      },
      "execution_count": 1,
      "outputs": [
        {
          "name": "stdout",
          "text": "I'm always there\n",
          "output_type": "stream"
        }
      ]
    },
    {
      "cell_type": "markdown",
      "source": "What its interesting here is to use a while loop, so we can keep on trying the try block until we have the expected answer\n",
      "metadata": {}
    },
    {
      "cell_type": "markdown",
      "source": "we are going to create an easy function for that",
      "metadata": {}
    },
    {
      "cell_type": "code",
      "source": "def ask_for_int():\n    while True:\n        try:\n            result = int(input(\"Please, provide a number: \"))\n        except: \n            print(\"EPA, this is not a number, try again.\")\n            continue\n        else:\n            print('Thank you, number provided')\n            break\n        finally:\n            pass\n",
      "metadata": {
        "trusted": true
      },
      "execution_count": 2,
      "outputs": []
    },
    {
      "cell_type": "code",
      "source": "",
      "metadata": {},
      "execution_count": null,
      "outputs": []
    }
  ]
}