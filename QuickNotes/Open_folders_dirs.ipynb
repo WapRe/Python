{
 "cells": [
  {
   "cell_type": "code",
   "execution_count": 2,
   "metadata": {},
   "outputs": [],
   "source": [
    "f = open('practice.txt','w+')\n",
    "f.write('This is a test string')\n",
    "f.close()\n",
    "\n",
    "#This is the ordinary way to create, open, write and close files"
   ]
  },
  {
   "cell_type": "code",
   "execution_count": 3,
   "metadata": {},
   "outputs": [],
   "source": [
    "import os"
   ]
  },
  {
   "cell_type": "code",
   "execution_count": 18,
   "metadata": {},
   "outputs": [],
   "source": [
    " # os.getcwd() #reports back the current working directory in any python script, no matter the os "
   ]
  },
  {
   "cell_type": "code",
   "execution_count": 7,
   "metadata": {},
   "outputs": [
    {
     "data": {
      "text/plain": [
       "['Collections.ipynb', 'Open_folders_dirs.ipynb', 'practice.txt']"
      ]
     },
     "execution_count": 7,
     "metadata": {},
     "output_type": "execute_result"
    }
   ],
   "source": [
    "os.listdir() #list back everything in my current directory"
   ]
  },
  {
   "cell_type": "code",
   "execution_count": 12,
   "metadata": {},
   "outputs": [
    {
     "data": {
      "text/plain": [
       "['1213.jpg',\n",
       " 'WallpaperDog-20393907.jpg',\n",
       " 'wallpaperflare.com_wallpaper.jpg',\n",
       " 'wallpaperflare.com_wallpaper(4).jpg',\n",
       " 'wallpaperflare.com_wallpaper(1).jpg',\n",
       " 'wallpaperflare.com_wallpaper(3).jpg',\n",
       " 'WallpaperDog-5509029.jpg',\n",
       " 'WallpaperDog-20393910.jpg',\n",
       " 'WallpaperDog-20393917.jpg',\n",
       " 'WallpaperDog-10866227.jpg',\n",
       " 'wallpaperflare.com_wallpaper(2).jpg',\n",
       " 'WallpaperDog-20393913.jpg']"
      ]
     },
     "execution_count": 12,
     "metadata": {},
     "output_type": "execute_result"
    }
   ],
   "source": [
    "# os.listdir('PATH') #We can choose any path!!! "
   ]
  },
  {
   "cell_type": "code",
   "execution_count": 14,
   "metadata": {},
   "outputs": [],
   "source": [
    "import shutil #can be used to move files around"
   ]
  },
  {
   "cell_type": "code",
   "execution_count": 17,
   "metadata": {},
   "outputs": [],
   "source": [
    "# shutil.move('PATH')"
   ]
  },
  {
   "attachments": {},
   "cell_type": "markdown",
   "metadata": {},
   "source": [
    "As you can see, now my practice file is back in another directory, check os documentation for more actions!"
   ]
  },
  {
   "cell_type": "code",
   "execution_count": 1,
   "metadata": {},
   "outputs": [],
   "source": [
    "import send2trash"
   ]
  },
  {
   "cell_type": "code",
   "execution_count": 3,
   "metadata": {},
   "outputs": [],
   "source": [
    "# send2trash.send2trash('PATH') in order to send things to trash that can be recovered, since os does not allow recovery"
   ]
  },
  {
   "cell_type": "code",
   "execution_count": 4,
   "metadata": {},
   "outputs": [],
   "source": [
    "#os.walk is looking with a tree style into directories"
   ]
  },
  {
   "cell_type": "code",
   "execution_count": null,
   "metadata": {},
   "outputs": [],
   "source": []
  }
 ],
 "metadata": {
  "kernelspec": {
   "display_name": "venvironment",
   "language": "python",
   "name": "python3"
  },
  "language_info": {
   "codemirror_mode": {
    "name": "ipython",
    "version": 3
   },
   "file_extension": ".py",
   "mimetype": "text/x-python",
   "name": "python",
   "nbconvert_exporter": "python",
   "pygments_lexer": "ipython3",
   "version": "3.9.2"
  },
  "orig_nbformat": 4
 },
 "nbformat": 4,
 "nbformat_minor": 2
}
