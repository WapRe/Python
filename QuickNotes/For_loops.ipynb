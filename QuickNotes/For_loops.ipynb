{
 "cells": [
  {
   "cell_type": "code",
   "execution_count": 1,
   "id": "66d65da9",
   "metadata": {},
   "outputs": [],
   "source": [
    "mylist = [1,2,3,4,5,6,7,8,9,10]"
   ]
  },
  {
   "cell_type": "code",
   "execution_count": 2,
   "id": "7ed4839d",
   "metadata": {},
   "outputs": [
    {
     "name": "stdout",
     "output_type": "stream",
     "text": [
      "1\n",
      "2\n",
      "3\n",
      "4\n",
      "5\n",
      "6\n",
      "7\n",
      "8\n",
      "9\n",
      "10\n"
     ]
    }
   ],
   "source": [
    "for num in mylist:\n",
    "    print(num)"
   ]
  },
  {
   "cell_type": "markdown",
   "id": "0cc537e4",
   "metadata": {},
   "source": [
    "'num' can be whatever, represents the actual objects inside the list before, is it Iterable. "
   ]
  },
  {
   "cell_type": "code",
   "execution_count": 4,
   "id": "a4be9988",
   "metadata": {},
   "outputs": [
    {
     "name": "stdout",
     "output_type": "stream",
     "text": [
      "hellohello\n",
      "hellohello\n",
      "hellohello\n",
      "hellohello\n",
      "hellohello\n",
      "hellohello\n",
      "hellohello\n",
      "hellohello\n",
      "hellohello\n",
      "hellohello\n"
     ]
    }
   ],
   "source": [
    "for ekisde in mylist:\n",
    "    print('hello'*2)"
   ]
  },
  {
   "cell_type": "markdown",
   "id": "cac5cdd1",
   "metadata": {},
   "source": [
    "it will always refer to every object in the list."
   ]
  },
  {
   "cell_type": "code",
   "execution_count": 6,
   "id": "18a59209",
   "metadata": {},
   "outputs": [
    {
     "name": "stdout",
     "output_type": "stream",
     "text": [
      "Odd Number:1\n",
      "2\n",
      "Odd Number:3\n",
      "4\n",
      "Odd Number:5\n",
      "6\n",
      "Odd Number:7\n",
      "8\n",
      "Odd Number:9\n",
      "10\n"
     ]
    }
   ],
   "source": [
    "for num in mylist:\n",
    "    if num % 2==0:\n",
    "        print(num)\n",
    "    else:\n",
    "        print(f'Odd Number:{num}')"
   ]
  },
  {
   "cell_type": "code",
   "execution_count": 8,
   "id": "484f6f05",
   "metadata": {},
   "outputs": [
    {
     "name": "stdout",
     "output_type": "stream",
     "text": [
      "55\n"
     ]
    }
   ],
   "source": [
    "list_sum = 0\n",
    "\n",
    "for num in mylist:\n",
    "    list_sum = list_sum + num\n",
    "    \n",
    "print(list_sum)"
   ]
  },
  {
   "cell_type": "markdown",
   "id": "b7eaafa2",
   "metadata": {},
   "source": [
    "If we wanted to see what it is doing, we can just put the print inside:"
   ]
  },
  {
   "cell_type": "code",
   "execution_count": 9,
   "id": "448abf2c",
   "metadata": {},
   "outputs": [
    {
     "name": "stdout",
     "output_type": "stream",
     "text": [
      "1\n",
      "3\n",
      "6\n",
      "10\n",
      "15\n",
      "21\n",
      "28\n",
      "36\n",
      "45\n",
      "55\n"
     ]
    }
   ],
   "source": [
    "list_sum = 0\n",
    "\n",
    "for num in mylist:\n",
    "    list_sum = list_sum + num\n",
    "    \n",
    "    print(list_sum)"
   ]
  },
  {
   "cell_type": "markdown",
   "id": "2fdbda3f",
   "metadata": {},
   "source": [
    "Now we can see every result that was made by the for statement until the end."
   ]
  },
  {
   "cell_type": "markdown",
   "id": "abd2279d",
   "metadata": {},
   "source": [
    "Lets try with strings:"
   ]
  },
  {
   "cell_type": "code",
   "execution_count": 10,
   "id": "dfdba437",
   "metadata": {},
   "outputs": [],
   "source": [
    "mystr = 'Hello World'"
   ]
  },
  {
   "cell_type": "code",
   "execution_count": 11,
   "id": "7f73c2fe",
   "metadata": {},
   "outputs": [
    {
     "name": "stdout",
     "output_type": "stream",
     "text": [
      "H\n",
      "e\n",
      "l\n",
      "l\n",
      "o\n",
      " \n",
      "W\n",
      "o\n",
      "r\n",
      "l\n",
      "d\n"
     ]
    }
   ],
   "source": [
    "for letter in mystr:\n",
    "    print(letter)"
   ]
  },
  {
   "cell_type": "markdown",
   "id": "5e75602f",
   "metadata": {},
   "source": [
    "Since those are strings, we can write it directly in the for statement, no need of first variable."
   ]
  },
  {
   "cell_type": "code",
   "execution_count": 12,
   "id": "997f5dca",
   "metadata": {},
   "outputs": [
    {
     "name": "stdout",
     "output_type": "stream",
     "text": [
      "H\n",
      "e\n",
      "l\n",
      "l\n",
      "o\n"
     ]
    }
   ],
   "source": [
    "for whatever in 'Hello':\n",
    "    print(whatever)"
   ]
  },
  {
   "cell_type": "code",
   "execution_count": 13,
   "id": "10cd75b1",
   "metadata": {},
   "outputs": [
    {
     "name": "stdout",
     "output_type": "stream",
     "text": [
      "2\n",
      "3\n",
      "4\n"
     ]
    }
   ],
   "source": [
    "tup = (1,2,3)\n",
    "\n",
    "for item in tup:\n",
    "    print(item + 1)"
   ]
  },
  {
   "cell_type": "markdown",
   "id": "2699d3f0",
   "metadata": {},
   "source": [
    "We can unpack tuples with for:"
   ]
  },
  {
   "cell_type": "code",
   "execution_count": 17,
   "id": "4d3e4325",
   "metadata": {},
   "outputs": [
    {
     "name": "stdout",
     "output_type": "stream",
     "text": [
      "(1, 2, 3)\n",
      "(4, 5, 6)\n"
     ]
    }
   ],
   "source": [
    "listtup = [(1,2,3),(4,5,6)]\n",
    "for a in listtup:\n",
    "    print(a)"
   ]
  },
  {
   "cell_type": "code",
   "execution_count": 18,
   "id": "46ff1208",
   "metadata": {},
   "outputs": [
    {
     "name": "stdout",
     "output_type": "stream",
     "text": [
      "1\n",
      "2\n",
      "3\n",
      "4\n",
      "5\n",
      "6\n"
     ]
    }
   ],
   "source": [
    "listtup= [(1,2,3),(4,5,6)]\n",
    "for a,b,c in listtup:\n",
    "    print(a)\n",
    "    print(b)\n",
    "    print(c)"
   ]
  },
  {
   "cell_type": "markdown",
   "id": "9f042072",
   "metadata": {},
   "source": [
    "if the for item is the same format as the tupple, then we can reffer to them as unique objects."
   ]
  },
  {
   "cell_type": "code",
   "execution_count": null,
   "id": "4843c594",
   "metadata": {},
   "outputs": [],
   "source": []
  }
 ],
 "metadata": {
  "kernelspec": {
   "display_name": "Python 3 (ipykernel)",
   "language": "python",
   "name": "python3"
  },
  "language_info": {
   "codemirror_mode": {
    "name": "ipython",
    "version": 3
   },
   "file_extension": ".py",
   "mimetype": "text/x-python",
   "name": "python",
   "nbconvert_exporter": "python",
   "pygments_lexer": "ipython3",
   "version": "3.9.13"
  }
 },
 "nbformat": 4,
 "nbformat_minor": 5
}
