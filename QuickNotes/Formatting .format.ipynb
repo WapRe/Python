{
 "cells": [
  {
   "cell_type": "markdown",
   "id": "53ad7931",
   "metadata": {},
   "source": [
    ".format() syntax: 'String here {}'.format('XYZ','ABC') \n",
    "\n",
    "So we have an string that will be immutable and then in the .format function whatever we want to add. "
   ]
  },
  {
   "cell_type": "code",
   "execution_count": 1,
   "id": "71394582",
   "metadata": {},
   "outputs": [
    {
     "name": "stdout",
     "output_type": "stream",
     "text": [
      "This is a string INSERTED\n"
     ]
    }
   ],
   "source": [
    "print('This is a string {}'.format('INSERTED'))"
   ]
  },
  {
   "cell_type": "markdown",
   "id": "cc2abe12",
   "metadata": {},
   "source": [
    "Every {} is supplied by 1 element in the .format() function:"
   ]
  },
  {
   "cell_type": "code",
   "execution_count": 2,
   "id": "b4517e9d",
   "metadata": {},
   "outputs": [
    {
     "name": "stdout",
     "output_type": "stream",
     "text": [
      "The fox brown quick\n"
     ]
    }
   ],
   "source": [
    "print ('The {} {} {}'.format('fox','brown','quick'))"
   ]
  },
  {
   "cell_type": "markdown",
   "id": "58cafe39",
   "metadata": {},
   "source": [
    "We can choose the position by typing the number of the element inside the {} :"
   ]
  },
  {
   "cell_type": "code",
   "execution_count": 3,
   "id": "52488b8a",
   "metadata": {},
   "outputs": [
    {
     "name": "stdout",
     "output_type": "stream",
     "text": [
      "The quick brown fox\n"
     ]
    }
   ],
   "source": [
    "print ('The {2} {1} {0}'.format('fox','brown','quick'))"
   ]
  },
  {
   "cell_type": "code",
   "execution_count": 5,
   "id": "094ce409",
   "metadata": {},
   "outputs": [
    {
     "name": "stdout",
     "output_type": "stream",
     "text": [
      "The quick brown fox\n"
     ]
    }
   ],
   "source": [
    "print('The {q} {b} {f}'.format(f='fox',b='brown',q='quick'))"
   ]
  }
 ],
 "metadata": {
  "kernelspec": {
   "display_name": "Python 3 (ipykernel)",
   "language": "python",
   "name": "python3"
  },
  "language_info": {
   "codemirror_mode": {
    "name": "ipython",
    "version": 3
   },
   "file_extension": ".py",
   "mimetype": "text/x-python",
   "name": "python",
   "nbconvert_exporter": "python",
   "pygments_lexer": "ipython3",
   "version": "3.9.13"
  }
 },
 "nbformat": 4,
 "nbformat_minor": 5
}
